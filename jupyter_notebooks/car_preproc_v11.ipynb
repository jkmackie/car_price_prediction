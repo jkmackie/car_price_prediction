{
 "cells": [
  {
   "cell_type": "markdown",
   "metadata": {},
   "source": [
    "##  Car Price Project - Preprocessing"
   ]
  },
  {
   "cell_type": "markdown",
   "metadata": {},
   "source": [
    "### `Research Notes`"
   ]
  },
  {
   "cell_type": "code",
   "execution_count": 1,
   "metadata": {},
   "outputs": [],
   "source": [
    "#KEY FEATURES\n",
    "#price label, brand, model, age, horsepower/engine_type, mileage. time passage from ad post?\n",
    "\n",
    "#SECONDARY FEATURES\n",
    "#make, fuel type, mpg, exterior color, door number, transmission type,\n",
    "#dimensions, safety, air condition, interior, navigation y/n, engine type\n",
    "#cubic capacity, number of ad views, power steering, rim type\n",
    "#registered city, number of doors, 4WD, damaged, leather, alarm,\n",
    "#A/C, parking sensors, xenon lights, remote unlock, electric mirrors,\n",
    "#seat heat, moon roof, cruise control, abs, traction control\n",
    "\n",
    "#OTHER FEATURES\n",
    "#estimated car life, price rank as category (cheap, moderate, expensive)\n",
    "\n",
    "#Non-craigslist features\n",
    "# gas price\n",
    "\n",
    "#Sparse features to ignore?: damaged, city"
   ]
  },
  {
   "cell_type": "code",
   "execution_count": 2,
   "metadata": {},
   "outputs": [],
   "source": [
    "#FEATURE ENHANCEMENT:\n",
    "#Train with stratified sample of make\n",
    "#Encode Thumbs Up/Down fields: [ON, OFF, NotAvailable] -> [1, -1, 0]\n",
    "#Poly features for regression.  Ex. Mileage and year\n",
    "#Differencing features and explicit features for orest."
   ]
  },
  {
   "cell_type": "code",
   "execution_count": 3,
   "metadata": {},
   "outputs": [],
   "source": [
    "# Candidate models\n",
    "# Regression, KNN, SVM, random forest, naive bayes, neural networks\n",
    "# Neural network should be best, followed by RF and SVM."
   ]
  },
  {
   "cell_type": "code",
   "execution_count": 4,
   "metadata": {},
   "outputs": [],
   "source": [
    "# Frame as Price as Regression vs Classification Problem\n",
    "# Classification: bin continuous features using cluster analysis?"
   ]
  },
  {
   "cell_type": "markdown",
   "metadata": {},
   "source": [
    "###  Imports"
   ]
  },
  {
   "cell_type": "code",
   "execution_count": 5,
   "metadata": {},
   "outputs": [],
   "source": [
    "%matplotlib inline\n",
    "import matplotlib.pyplot as plt\n",
    "import seaborn as sns\n",
    "import numpy as np\n",
    "import pandas as pd\n",
    "import seaborn as sns\n",
    "import sqlite3\n",
    "import re\n",
    "import pprint\n",
    "import joblib\n",
    "\n",
    "#pd.set_option('max_colwidth', 2000)\n",
    "pd.options.display.max_rows = 500\n",
    "pd.options.display.max_columns = 500\n",
    "\n",
    "#Python iterators for efficient looping\n",
    "import itertools\n",
    "\n",
    "#transformers\n",
    "from sklearn.preprocessing import StandardScaler\n",
    "from sklearn.preprocessing import RobustScaler\n",
    "from sklearn.preprocessing import MinMaxScaler"
   ]
  },
  {
   "cell_type": "markdown",
   "metadata": {},
   "source": [
    "### SQLite3 and json helper functions"
   ]
  },
  {
   "cell_type": "code",
   "execution_count": 6,
   "metadata": {},
   "outputs": [],
   "source": [
    "def run_command(c):\n",
    "    '''Opens sqlite database connection and executes command.'''\n",
    "    with sqlite3.connect('auto.sqlite', isolation_level = None) as conn:  # autocommit mode\n",
    "        conn.execute(c)\n",
    "        conn.commit()\n",
    "\n",
    "def write_table(df, table_name_str):\n",
    "    '''Opens sqlite database connection.  Writes or overwrites\n",
    "    database table with dataframe.'''\n",
    "    with sqlite3.connect('auto.sqlite', isolation_level = None) as conn:  # autocommit mode\n",
    "        return df.to_sql(table_name_str, con=conn, if_exists='replace', index=True)"
   ]
  },
  {
   "cell_type": "code",
   "execution_count": 7,
   "metadata": {},
   "outputs": [],
   "source": [
    "def query_table_to_df(dbname_string, query):  \n",
    "    '''Query sqlite database and return DataFrame.'''\n",
    "    with sqlite3.connect(dbname_string) as conn: # autocommit mode\n",
    "        return pd.read_sql(sql=query, con=conn)"
   ]
  },
  {
   "cell_type": "code",
   "execution_count": 8,
   "metadata": {},
   "outputs": [],
   "source": [
    "#This function may be used to combine different json files.  No deduping.\n",
    "def open_decode_json(json_file):\n",
    "    '''Returns decoded json.  Read json and decode file into Python objects.\n",
    "    read_file closed after with statement.'''\n",
    "    import json\n",
    "    with open(json_file, \"r\") as read_file:\n",
    "        decoded = json.load(read_file)        \n",
    "    return decoded"
   ]
  },
  {
   "cell_type": "markdown",
   "metadata": {},
   "source": [
    "### Import Raw Data"
   ]
  },
  {
   "cell_type": "code",
   "execution_count": 9,
   "metadata": {},
   "outputs": [
    {
     "name": "stdout",
     "output_type": "stream",
     "text": [
      "Combined len: 10538\n"
     ]
    },
    {
     "data": {
      "text/plain": [
       "'vehicle:'"
      ]
     },
     "metadata": {},
     "output_type": "display_data"
    },
    {
     "data": {
      "text/html": [
       "<div>\n",
       "<style scoped>\n",
       "    .dataframe tbody tr th:only-of-type {\n",
       "        vertical-align: middle;\n",
       "    }\n",
       "\n",
       "    .dataframe tbody tr th {\n",
       "        vertical-align: top;\n",
       "    }\n",
       "\n",
       "    .dataframe thead th {\n",
       "        text-align: right;\n",
       "    }\n",
       "</style>\n",
       "<table border=\"1\" class=\"dataframe\">\n",
       "  <thead>\n",
       "    <tr style=\"text-align: right;\">\n",
       "      <th></th>\n",
       "      <th>URL_Vehicle</th>\n",
       "      <th>Title</th>\n",
       "      <th>Price</th>\n",
       "      <th>SubLoc</th>\n",
       "      <th>Body</th>\n",
       "      <th>AttribDictionary</th>\n",
       "      <th>ImageDictionary</th>\n",
       "    </tr>\n",
       "  </thead>\n",
       "  <tbody>\n",
       "    <tr>\n",
       "      <th>10537</th>\n",
       "      <td>https://sanantonio.craigslist.org/ctd/d/san-an...</td>\n",
       "      <td>2008 FORD F250 SUPER DUTY CREW CAB</td>\n",
       "      <td>$16900</td>\n",
       "      <td>(1200 basse rd San Antonio TX)</td>\n",
       "      <td>[\\n        , \\n2008 FORD F250 SUPER DUTY CREW ...</td>\n",
       "      <td>{'0': '&lt;span&gt;&lt;b&gt;2008 ford f-250 super duty cre...</td>\n",
       "      <td>{'0': 'https://images.craigslist.org/00k0k_9Lu...</td>\n",
       "    </tr>\n",
       "  </tbody>\n",
       "</table>\n",
       "</div>"
      ],
      "text/plain": [
       "                                             URL_Vehicle  \\\n",
       "10537  https://sanantonio.craigslist.org/ctd/d/san-an...   \n",
       "\n",
       "                                    Title   Price  \\\n",
       "10537  2008 FORD F250 SUPER DUTY CREW CAB  $16900   \n",
       "\n",
       "                                SubLoc  \\\n",
       "10537   (1200 basse rd San Antonio TX)   \n",
       "\n",
       "                                                    Body  \\\n",
       "10537  [\\n        , \\n2008 FORD F250 SUPER DUTY CREW ...   \n",
       "\n",
       "                                        AttribDictionary  \\\n",
       "10537  {'0': '<span><b>2008 ford f-250 super duty cre...   \n",
       "\n",
       "                                         ImageDictionary  \n",
       "10537  {'0': 'https://images.craigslist.org/00k0k_9Lu...  "
      ]
     },
     "metadata": {},
     "output_type": "display_data"
    }
   ],
   "source": [
    "#Import data - austin, dallas, houston, and san antonio.  Pulled 11-18-2019.\n",
    "\n",
    "austin=pd.read_json('json/austin_ford_2019-11-18.json')\n",
    "dallas=pd.read_json('json/dallas_ford_2019-11-18.json')\n",
    "ep=pd.read_json('json/ep_ford_2019-11-18.json')\n",
    "houston=pd.read_json('json/houston_ford_2019-11-18.json')\n",
    "sa=pd.read_json('json/sa_ford_2019_11_18.json')\n",
    "\n",
    "print('Combined len:', len(austin) + len(dallas) + len(ep) + len(houston) + len(sa))\n",
    "\n",
    "vehicle = pd.DataFrame()\n",
    "for dframe in [austin, dallas, ep, houston, sa]:\n",
    "    vehicle = vehicle.append(dframe, ignore_index = True)\n",
    "display('vehicle:', vehicle.tail(1))"
   ]
  },
  {
   "cell_type": "code",
   "execution_count": 10,
   "metadata": {},
   "outputs": [],
   "source": [
    "#The vehicle 'Body' is a comma-delimited list.  Join list into a single string.\n",
    "vehicle['Body'] = vehicle['Body'].str.join(',')\n",
    "\n",
    "#Remove whitespace.  Replace blank entries with None.\n",
    "vehicle['SubLoc'] = vehicle['SubLoc'].str.strip()\n",
    "SubLoc_dict={'SubLoc': {np.nan : 'None'}}\n",
    "vehicle.replace(SubLoc_dict, inplace=True)"
   ]
  },
  {
   "cell_type": "code",
   "execution_count": 11,
   "metadata": {},
   "outputs": [
    {
     "name": "stdout",
     "output_type": "stream",
     "text": [
      "Drop 216 TRUCKMAX listings outside Texas: Int64Index([ 1955,  1956,  1958,  2083,  2085,  2120,  2121,  2275,  2277,\n",
      "             2281,\n",
      "            ...\n",
      "             9867,  9901, 10065, 10069, 10093, 10143, 10202, 10209, 10386,\n",
      "            10395],\n",
      "           dtype='int64', length=216)\n"
     ]
    }
   ],
   "source": [
    "#Drop TRUCKMAX autos that are outside Texas.  \n",
    "vehicle[vehicle['SubLoc'] == '(TRUCKMAX)']\n",
    "drop_indices = vehicle[vehicle['SubLoc'] == '(TRUCKMAX)'].index\n",
    "print(f'Drop {len(drop_indices)} TRUCKMAX listings outside Texas:', drop_indices)\n",
    "vehicle.drop(index = drop_indices, inplace = True, errors = 'ignore')\n",
    "\n",
    "#Drop incomplete listing 5247.\n",
    "vehicle.drop(labels = 5247, inplace = True, errors = 'ignore')"
   ]
  },
  {
   "cell_type": "code",
   "execution_count": null,
   "metadata": {},
   "outputs": [],
   "source": []
  },
  {
   "cell_type": "code",
   "execution_count": null,
   "metadata": {},
   "outputs": [],
   "source": []
  },
  {
   "cell_type": "code",
   "execution_count": 12,
   "metadata": {},
   "outputs": [
    {
     "name": "stdout",
     "output_type": "stream",
     "text": [
      "vehicle length: 10321\n",
      "vehicle type: <class 'pandas.core.frame.DataFrame'>\n"
     ]
    },
    {
     "data": {
      "text/html": [
       "<div>\n",
       "<style scoped>\n",
       "    .dataframe tbody tr th:only-of-type {\n",
       "        vertical-align: middle;\n",
       "    }\n",
       "\n",
       "    .dataframe tbody tr th {\n",
       "        vertical-align: top;\n",
       "    }\n",
       "\n",
       "    .dataframe thead th {\n",
       "        text-align: right;\n",
       "    }\n",
       "</style>\n",
       "<table border=\"1\" class=\"dataframe\">\n",
       "  <thead>\n",
       "    <tr style=\"text-align: right;\">\n",
       "      <th></th>\n",
       "      <th>URL_Vehicle</th>\n",
       "      <th>Title</th>\n",
       "      <th>Location</th>\n",
       "      <th>Year</th>\n",
       "      <th>Year_in_Title</th>\n",
       "      <th>Odometer</th>\n",
       "      <th>RawMake</th>\n",
       "      <th>Make</th>\n",
       "      <th>Model</th>\n",
       "      <th>Trim</th>\n",
       "      <th>Seller</th>\n",
       "      <th>Price</th>\n",
       "      <th>SubLoc</th>\n",
       "      <th>Body</th>\n",
       "      <th>AttribDictionary</th>\n",
       "      <th>ImageDictionary</th>\n",
       "    </tr>\n",
       "  </thead>\n",
       "  <tbody>\n",
       "    <tr>\n",
       "      <th>0</th>\n",
       "      <td>https://austin.craigslist.org/ctd/d/temple-201...</td>\n",
       "      <td>2016 FORD F350 XLT 6.7L DIESEL! 4X4 20\" ALCOAS...</td>\n",
       "      <td>NaN</td>\n",
       "      <td>NaN</td>\n",
       "      <td>NaN</td>\n",
       "      <td>NaN</td>\n",
       "      <td>NaN</td>\n",
       "      <td>NaN</td>\n",
       "      <td>NaN</td>\n",
       "      <td>NaN</td>\n",
       "      <td>NaN</td>\n",
       "      <td>$34799</td>\n",
       "      <td>(TEXASDIESELSTORE.COM)</td>\n",
       "      <td>\\n        ,\\nwww.TEXASDIESELSTORE.com,\\n,\\nCAL...</td>\n",
       "      <td>{'0': '&lt;span&gt;&lt;b&gt;2016 FORD&lt;/b&gt;&lt;/span&gt;', '1': '&lt;...</td>\n",
       "      <td>{'0': 'https://images.craigslist.org/00505_1T8...</td>\n",
       "    </tr>\n",
       "    <tr>\n",
       "      <th>1</th>\n",
       "      <td>https://austin.craigslist.org/cto/d/red-rock-2...</td>\n",
       "      <td>2006 Ford Focus SE</td>\n",
       "      <td>NaN</td>\n",
       "      <td>NaN</td>\n",
       "      <td>NaN</td>\n",
       "      <td>NaN</td>\n",
       "      <td>NaN</td>\n",
       "      <td>NaN</td>\n",
       "      <td>NaN</td>\n",
       "      <td>NaN</td>\n",
       "      <td>NaN</td>\n",
       "      <td>$3000</td>\n",
       "      <td>(Cedar Creek)</td>\n",
       "      <td>\\n        ,\\n2006 Ford Focus in great mechanic...</td>\n",
       "      <td>{'0': '&lt;span&gt;&lt;b&gt;2006 Ford Focus SE&lt;/b&gt;&lt;/span&gt;'...</td>\n",
       "      <td>{'0': 'https://images.craigslist.org/00n0n_dXT...</td>\n",
       "    </tr>\n",
       "  </tbody>\n",
       "</table>\n",
       "</div>"
      ],
      "text/plain": [
       "                                         URL_Vehicle  \\\n",
       "0  https://austin.craigslist.org/ctd/d/temple-201...   \n",
       "1  https://austin.craigslist.org/cto/d/red-rock-2...   \n",
       "\n",
       "                                               Title  Location  Year  \\\n",
       "0  2016 FORD F350 XLT 6.7L DIESEL! 4X4 20\" ALCOAS...       NaN   NaN   \n",
       "1                                 2006 Ford Focus SE       NaN   NaN   \n",
       "\n",
       "   Year_in_Title  Odometer  RawMake  Make  Model  Trim  Seller   Price  \\\n",
       "0            NaN       NaN      NaN   NaN    NaN   NaN     NaN  $34799   \n",
       "1            NaN       NaN      NaN   NaN    NaN   NaN     NaN   $3000   \n",
       "\n",
       "                   SubLoc                                               Body  \\\n",
       "0  (TEXASDIESELSTORE.COM)  \\n        ,\\nwww.TEXASDIESELSTORE.com,\\n,\\nCAL...   \n",
       "1           (Cedar Creek)  \\n        ,\\n2006 Ford Focus in great mechanic...   \n",
       "\n",
       "                                    AttribDictionary  \\\n",
       "0  {'0': '<span><b>2016 FORD</b></span>', '1': '<...   \n",
       "1  {'0': '<span><b>2006 Ford Focus SE</b></span>'...   \n",
       "\n",
       "                                     ImageDictionary  \n",
       "0  {'0': 'https://images.craigslist.org/00505_1T8...  \n",
       "1  {'0': 'https://images.craigslist.org/00n0n_dXT...  "
      ]
     },
     "execution_count": 12,
     "metadata": {},
     "output_type": "execute_result"
    }
   ],
   "source": [
    "#Add feature columns and view dataframe\n",
    "print('vehicle length:', len(vehicle))\n",
    "print('vehicle type:', type(vehicle))\n",
    "vehicle.insert(2,'Location',np.nan)\n",
    "vehicle.insert(3,'Year',np.nan)\n",
    "vehicle.insert(4,'Year_in_Title',np.nan)\n",
    "vehicle.insert(5,'Odometer',np.nan)\n",
    "vehicle.insert(6,'RawMake',np.nan)\n",
    "vehicle.insert(7,'Make',np.nan)\n",
    "vehicle.insert(8,'Model',np.nan)\n",
    "vehicle.insert(9,'Trim',np.nan)\n",
    "vehicle.insert(10,'Seller',np.nan)\n",
    "vehicle.head(2)"
   ]
  },
  {
   "cell_type": "code",
   "execution_count": 13,
   "metadata": {},
   "outputs": [
    {
     "data": {
      "text/plain": [
       "{'0': '<span><b>2006 Ford Focus SE</b></span>',\n",
       " '1': '<span>fuel: <b>gas</b></span>',\n",
       " '2': '<span>title status: <b>clean</b></span>',\n",
       " '3': '<span>transmission: <b>automatic</b></span>'}"
      ]
     },
     "execution_count": 13,
     "metadata": {},
     "output_type": "execute_result"
    }
   ],
   "source": [
    "vehicle.loc[1,'AttribDictionary']"
   ]
  },
  {
   "cell_type": "code",
   "execution_count": 14,
   "metadata": {},
   "outputs": [
    {
     "name": "stdout",
     "output_type": "stream",
     "text": [
      "In URL_Vehicle, 0 missed matches for regex pattern: /(\\d+)\\.html.\n",
      "In URL_Vehicle, 0 missed matches for regex pattern: https://(.+)\\.craigslist.\n"
     ]
    }
   ],
   "source": [
    "def match_regex_patt(df, target_col, regex_patt, no_match_value='None'):\n",
    "    '''Returns regex_patt matches as list.'''\n",
    "    matchList=[]\n",
    "    cnt = 0\n",
    "    for idx in df.index:\n",
    "        m = re.search(regex_patt, df.loc[idx, target_col], flags=re.IGNORECASE) #re.search(pattern, string) gets first match\n",
    "        if m is not None:\n",
    "            matchList.append(m.group(1).lower())\n",
    "        else:\n",
    "            cnt+=1\n",
    "            matchList.append(no_match_value)\n",
    "    print(f'In {target_col}, {cnt} missed matches for regex pattern: {regex_patt}.')\n",
    "    return matchList\n",
    "    \n",
    "#Get VehicleID from URL_Vehicle.    \n",
    "vehIDList = match_regex_patt(df=vehicle, target_col='URL_Vehicle', regex_patt=r'/(\\d+)\\.html', no_match_value='None')    \n",
    "vehicle['VehicleID'] = vehIDList\n",
    "\n",
    "#Get vehicle Location from URL location.craigslist.org\n",
    "vehLocList = match_regex_patt(df=vehicle, target_col='URL_Vehicle', regex_patt='https://(.+)\\.craigslist', no_match_value='None')    \n",
    "vehicle['Location'] = vehLocList"
   ]
  },
  {
   "cell_type": "code",
   "execution_count": 15,
   "metadata": {},
   "outputs": [
    {
     "data": {
      "text/html": [
       "<div>\n",
       "<style scoped>\n",
       "    .dataframe tbody tr th:only-of-type {\n",
       "        vertical-align: middle;\n",
       "    }\n",
       "\n",
       "    .dataframe tbody tr th {\n",
       "        vertical-align: top;\n",
       "    }\n",
       "\n",
       "    .dataframe thead th {\n",
       "        text-align: right;\n",
       "    }\n",
       "</style>\n",
       "<table border=\"1\" class=\"dataframe\">\n",
       "  <thead>\n",
       "    <tr style=\"text-align: right;\">\n",
       "      <th></th>\n",
       "      <th>URL_Vehicle</th>\n",
       "      <th>Title</th>\n",
       "      <th>Location</th>\n",
       "      <th>Year</th>\n",
       "      <th>Year_in_Title</th>\n",
       "      <th>Odometer</th>\n",
       "      <th>RawMake</th>\n",
       "      <th>Make</th>\n",
       "      <th>Model</th>\n",
       "      <th>Trim</th>\n",
       "      <th>Seller</th>\n",
       "      <th>Price</th>\n",
       "      <th>SubLoc</th>\n",
       "      <th>Body</th>\n",
       "      <th>AttribDictionary</th>\n",
       "      <th>ImageDictionary</th>\n",
       "      <th>VehicleID</th>\n",
       "    </tr>\n",
       "  </thead>\n",
       "  <tbody>\n",
       "    <tr>\n",
       "      <th>0</th>\n",
       "      <td>https://austin.craigslist.org/ctd/d/temple-201...</td>\n",
       "      <td>2016 FORD F350 XLT 6.7L DIESEL! 4X4 20\" ALCOAS...</td>\n",
       "      <td>austin</td>\n",
       "      <td>NaN</td>\n",
       "      <td>NaN</td>\n",
       "      <td>NaN</td>\n",
       "      <td>NaN</td>\n",
       "      <td>NaN</td>\n",
       "      <td>NaN</td>\n",
       "      <td>NaN</td>\n",
       "      <td>NaN</td>\n",
       "      <td>$34799</td>\n",
       "      <td>(TEXASDIESELSTORE.COM)</td>\n",
       "      <td>\\n        ,\\nwww.TEXASDIESELSTORE.com,\\n,\\nCAL...</td>\n",
       "      <td>{'0': '&lt;span&gt;&lt;b&gt;2016 FORD&lt;/b&gt;&lt;/span&gt;', '1': '&lt;...</td>\n",
       "      <td>{'0': 'https://images.craigslist.org/00505_1T8...</td>\n",
       "      <td>7022706459</td>\n",
       "    </tr>\n",
       "    <tr>\n",
       "      <th>1</th>\n",
       "      <td>https://austin.craigslist.org/cto/d/red-rock-2...</td>\n",
       "      <td>2006 Ford Focus SE</td>\n",
       "      <td>austin</td>\n",
       "      <td>NaN</td>\n",
       "      <td>NaN</td>\n",
       "      <td>NaN</td>\n",
       "      <td>NaN</td>\n",
       "      <td>NaN</td>\n",
       "      <td>NaN</td>\n",
       "      <td>NaN</td>\n",
       "      <td>NaN</td>\n",
       "      <td>$3000</td>\n",
       "      <td>(Cedar Creek)</td>\n",
       "      <td>\\n        ,\\n2006 Ford Focus in great mechanic...</td>\n",
       "      <td>{'0': '&lt;span&gt;&lt;b&gt;2006 Ford Focus SE&lt;/b&gt;&lt;/span&gt;'...</td>\n",
       "      <td>{'0': 'https://images.craigslist.org/00n0n_dXT...</td>\n",
       "      <td>7022331083</td>\n",
       "    </tr>\n",
       "  </tbody>\n",
       "</table>\n",
       "</div>"
      ],
      "text/plain": [
       "                                         URL_Vehicle  \\\n",
       "0  https://austin.craigslist.org/ctd/d/temple-201...   \n",
       "1  https://austin.craigslist.org/cto/d/red-rock-2...   \n",
       "\n",
       "                                               Title Location  Year  \\\n",
       "0  2016 FORD F350 XLT 6.7L DIESEL! 4X4 20\" ALCOAS...   austin   NaN   \n",
       "1                                 2006 Ford Focus SE   austin   NaN   \n",
       "\n",
       "   Year_in_Title  Odometer  RawMake  Make  Model  Trim  Seller   Price  \\\n",
       "0            NaN       NaN      NaN   NaN    NaN   NaN     NaN  $34799   \n",
       "1            NaN       NaN      NaN   NaN    NaN   NaN     NaN   $3000   \n",
       "\n",
       "                   SubLoc                                               Body  \\\n",
       "0  (TEXASDIESELSTORE.COM)  \\n        ,\\nwww.TEXASDIESELSTORE.com,\\n,\\nCAL...   \n",
       "1           (Cedar Creek)  \\n        ,\\n2006 Ford Focus in great mechanic...   \n",
       "\n",
       "                                    AttribDictionary  \\\n",
       "0  {'0': '<span><b>2016 FORD</b></span>', '1': '<...   \n",
       "1  {'0': '<span><b>2006 Ford Focus SE</b></span>'...   \n",
       "\n",
       "                                     ImageDictionary   VehicleID  \n",
       "0  {'0': 'https://images.craigslist.org/00505_1T8...  7022706459  \n",
       "1  {'0': 'https://images.craigslist.org/00n0n_dXT...  7022331083  "
      ]
     },
     "execution_count": 15,
     "metadata": {},
     "output_type": "execute_result"
    }
   ],
   "source": [
    "vehicle.head(2)"
   ]
  },
  {
   "cell_type": "code",
   "execution_count": 16,
   "metadata": {},
   "outputs": [
    {
     "data": {
      "text/plain": [
       "0        {'0': '<span><b>2016 FORD</b></span>', '1': '<...\n",
       "1        {'0': '<span><b>2006 Ford Focus SE</b></span>'...\n",
       "2        {'0': '<span><b>2004 FORD F450</b></span>', '1...\n",
       "3        {'0': '<span><b>2007 FORD E350 SHUTTLE BUS</b>...\n",
       "4        {'0': '<span><b>1979 1979 FORD MUSTANG</b></sp...\n",
       "                               ...                        \n",
       "10533    {'0': '<span><b>2013 Ford Explorer SUV</b></sp...\n",
       "10534    {'0': '<span><b>2005 FORD E350</b></span>', '1...\n",
       "10535    {'0': '<span><b>2014 Ford Mustang</b></span>',...\n",
       "10536    {'0': '<span><b>2016 FORD</b></span>', '1': '<...\n",
       "10537    {'0': '<span><b>2008 ford f-250 super duty cre...\n",
       "Name: AttribDictionary, Length: 10321, dtype: object"
      ]
     },
     "execution_count": 16,
     "metadata": {},
     "output_type": "execute_result"
    }
   ],
   "source": [
    "vehicle['AttribDictionary']"
   ]
  },
  {
   "cell_type": "code",
   "execution_count": 17,
   "metadata": {},
   "outputs": [
    {
     "name": "stdout",
     "output_type": "stream",
     "text": [
      "Count of vehicles older than 1999 that were dropped: 594\n"
     ]
    }
   ],
   "source": [
    "#Build Year column from AttribDictionary.  Assert numeric format and none missing.\n",
    "yrList=[]\n",
    "for idx in vehicle.index:\n",
    "    m = re.search(r'(\\d+)', vehicle.loc[idx, 'AttribDictionary']['0'])  #re.search(pattern, string) gets first match\n",
    "    yrList.append(m.group(1))  \n",
    "vehicle['Year'] = yrList    \n",
    "vehicle['Year'] = vehicle['Year'].astype('float').astype('int64')\n",
    "\n",
    "#Keep Years 1999 and later.\n",
    "print('Count of vehicles older than 1999 that were dropped:', sum(vehicle['Year'] < 1999))\n",
    "filt = (vehicle['Year'] >= 1999)\n",
    "vehicle = vehicle[filt]\n",
    "\n",
    "assert vehicle['Year'].dtypes == 'int64',  \"Year must be integer.\"\n",
    "assert len(vehicle[vehicle['Year'].isna()]) == 0, \"Year cannot have NAs.\""
   ]
  },
  {
   "cell_type": "code",
   "execution_count": null,
   "metadata": {},
   "outputs": [],
   "source": []
  },
  {
   "cell_type": "code",
   "execution_count": 18,
   "metadata": {},
   "outputs": [],
   "source": [
    "#Extract Odometer and VIN from AttribDictionary.  For each index, go through dict keys.\n",
    "odomet=[]\n",
    "vin = []\n",
    "vinCNT=0\n",
    "for idx in vehicle.index:\n",
    "    odo_success = 0\n",
    "    vin_success = 0\n",
    "    \n",
    "    for k in vehicle.loc[idx, 'AttribDictionary'].keys():\n",
    "        od_m = re.search(r'<span>odometer: <b>(\\d+)</b>', vehicle.loc[idx, 'AttribDictionary'][str(k)]) #re.search(pattern, string) gets first match\n",
    "        vin_m = re.search(r'<span>VIN: <b>(\\w+)</b>', vehicle.loc[idx, 'AttribDictionary'][str(k)]) #re.search(pattern, string) gets first match\n",
    "                \n",
    "        if od_m is not None:\n",
    "            odo_success = 1\n",
    "            odomet.append(od_m.group(1))            \n",
    "        if vin_m is not None:\n",
    "            vin_success = 1\n",
    "            vin.append(vin_m.group(1))\n",
    "            \n",
    "    if odo_success != 1:\n",
    "        odomet.append(np.nan)        \n",
    "    if vin_success != 1:\n",
    "        vinCNT += 1\n",
    "        vin.append('None'+str(vinCNT))  #Use None1, None2, None3 so each missing value is unique.\n",
    "\n",
    "vehicle['Odometer'] = odomet\n",
    "vehicle['Odometer'] = vehicle['Odometer'].astype('float')\n",
    "vehicle['VIN'] = vin"
   ]
  },
  {
   "cell_type": "code",
   "execution_count": 19,
   "metadata": {},
   "outputs": [
    {
     "data": {
      "text/html": [
       "<div>\n",
       "<style scoped>\n",
       "    .dataframe tbody tr th:only-of-type {\n",
       "        vertical-align: middle;\n",
       "    }\n",
       "\n",
       "    .dataframe tbody tr th {\n",
       "        vertical-align: top;\n",
       "    }\n",
       "\n",
       "    .dataframe thead th {\n",
       "        text-align: right;\n",
       "    }\n",
       "</style>\n",
       "<table border=\"1\" class=\"dataframe\">\n",
       "  <thead>\n",
       "    <tr style=\"text-align: right;\">\n",
       "      <th></th>\n",
       "      <th>URL_Vehicle</th>\n",
       "      <th>Title</th>\n",
       "      <th>Location</th>\n",
       "      <th>Year</th>\n",
       "      <th>Year_in_Title</th>\n",
       "      <th>Odometer</th>\n",
       "      <th>RawMake</th>\n",
       "      <th>Make</th>\n",
       "      <th>Model</th>\n",
       "      <th>Trim</th>\n",
       "      <th>Seller</th>\n",
       "      <th>Price</th>\n",
       "      <th>SubLoc</th>\n",
       "      <th>Body</th>\n",
       "      <th>AttribDictionary</th>\n",
       "      <th>ImageDictionary</th>\n",
       "      <th>VehicleID</th>\n",
       "      <th>VIN</th>\n",
       "    </tr>\n",
       "  </thead>\n",
       "  <tbody>\n",
       "    <tr>\n",
       "      <th>0</th>\n",
       "      <td>https://austin.craigslist.org/ctd/d/temple-201...</td>\n",
       "      <td>2016 FORD F350 XLT 6.7L DIESEL! 4X4 20\" ALCOAS...</td>\n",
       "      <td>austin</td>\n",
       "      <td>2016</td>\n",
       "      <td>NaN</td>\n",
       "      <td>127.0</td>\n",
       "      <td>NaN</td>\n",
       "      <td>NaN</td>\n",
       "      <td>NaN</td>\n",
       "      <td>NaN</td>\n",
       "      <td>NaN</td>\n",
       "      <td>$34799</td>\n",
       "      <td>(TEXASDIESELSTORE.COM)</td>\n",
       "      <td>\\n        ,\\nwww.TEXASDIESELSTORE.com,\\n,\\nCAL...</td>\n",
       "      <td>{'0': '&lt;span&gt;&lt;b&gt;2016 FORD&lt;/b&gt;&lt;/span&gt;', '1': '&lt;...</td>\n",
       "      <td>{'0': 'https://images.craigslist.org/00505_1T8...</td>\n",
       "      <td>7022706459</td>\n",
       "      <td>None1</td>\n",
       "    </tr>\n",
       "  </tbody>\n",
       "</table>\n",
       "</div>"
      ],
      "text/plain": [
       "                                         URL_Vehicle  \\\n",
       "0  https://austin.craigslist.org/ctd/d/temple-201...   \n",
       "\n",
       "                                               Title Location  Year  \\\n",
       "0  2016 FORD F350 XLT 6.7L DIESEL! 4X4 20\" ALCOAS...   austin  2016   \n",
       "\n",
       "   Year_in_Title  Odometer  RawMake  Make  Model  Trim  Seller   Price  \\\n",
       "0            NaN     127.0      NaN   NaN    NaN   NaN     NaN  $34799   \n",
       "\n",
       "                   SubLoc                                               Body  \\\n",
       "0  (TEXASDIESELSTORE.COM)  \\n        ,\\nwww.TEXASDIESELSTORE.com,\\n,\\nCAL...   \n",
       "\n",
       "                                    AttribDictionary  \\\n",
       "0  {'0': '<span><b>2016 FORD</b></span>', '1': '<...   \n",
       "\n",
       "                                     ImageDictionary   VehicleID    VIN  \n",
       "0  {'0': 'https://images.craigslist.org/00505_1T8...  7022706459  None1  "
      ]
     },
     "execution_count": 19,
     "metadata": {},
     "output_type": "execute_result"
    }
   ],
   "source": [
    "vehicle.head(1)"
   ]
  },
  {
   "cell_type": "code",
   "execution_count": 20,
   "metadata": {},
   "outputs": [
    {
     "data": {
      "text/html": [
       "<div>\n",
       "<style scoped>\n",
       "    .dataframe tbody tr th:only-of-type {\n",
       "        vertical-align: middle;\n",
       "    }\n",
       "\n",
       "    .dataframe tbody tr th {\n",
       "        vertical-align: top;\n",
       "    }\n",
       "\n",
       "    .dataframe thead th {\n",
       "        text-align: right;\n",
       "    }\n",
       "</style>\n",
       "<table border=\"1\" class=\"dataframe\">\n",
       "  <thead>\n",
       "    <tr style=\"text-align: right;\">\n",
       "      <th></th>\n",
       "      <th>URL_Vehicle</th>\n",
       "      <th>Body</th>\n",
       "      <th>Odometer</th>\n",
       "    </tr>\n",
       "  </thead>\n",
       "  <tbody>\n",
       "    <tr>\n",
       "      <th>0</th>\n",
       "      <td>https://austin.craigslist.org/ctd/d/temple-201...</td>\n",
       "      <td>\\n        ,\\nwww.TEXASDIESELSTORE.com,\\n,\\nCAL...</td>\n",
       "      <td>127.0</td>\n",
       "    </tr>\n",
       "    <tr>\n",
       "      <th>1</th>\n",
       "      <td>https://austin.craigslist.org/cto/d/red-rock-2...</td>\n",
       "      <td>\\n        ,\\n2006 Ford Focus in great mechanic...</td>\n",
       "      <td>NaN</td>\n",
       "    </tr>\n",
       "    <tr>\n",
       "      <th>2</th>\n",
       "      <td>https://austin.craigslist.org/cto/d/marble-fal...</td>\n",
       "      <td>\\n        ,\\nThis is a really nice dependable ...</td>\n",
       "      <td>100000.0</td>\n",
       "    </tr>\n",
       "    <tr>\n",
       "      <th>3</th>\n",
       "      <td>https://austin.craigslist.org/cto/d/marble-fal...</td>\n",
       "      <td>\\n        ,\\nThis is a really nice 9 Passenger...</td>\n",
       "      <td>130000.0</td>\n",
       "    </tr>\n",
       "    <tr>\n",
       "      <th>5</th>\n",
       "      <td>https://austin.craigslist.org/ctd/d/lockhart-2...</td>\n",
       "      <td>\\n        ,\\n,\\n,\\naddress:    ,phone:      ☎ ...</td>\n",
       "      <td>102467.0</td>\n",
       "    </tr>\n",
       "    <tr>\n",
       "      <th>6</th>\n",
       "      <td>https://austin.craigslist.org/ctd/d/manor-2019...</td>\n",
       "      <td>\\n        ,\\n\\n,\\n\\n,\\n\\n,\\n\\n\\n\\n,\\n\\n,\\n\\n,\\...</td>\n",
       "      <td>0.0</td>\n",
       "    </tr>\n",
       "    <tr>\n",
       "      <th>7</th>\n",
       "      <td>https://austin.craigslist.org/ctd/d/houston-20...</td>\n",
       "      <td>\\n        ,\\n,\\n\\n,We are dedicated to helping...</td>\n",
       "      <td>12820.0</td>\n",
       "    </tr>\n",
       "    <tr>\n",
       "      <th>8</th>\n",
       "      <td>https://austin.craigslist.org/ctd/d/austin-201...</td>\n",
       "      <td>\\n        ,\\n1000 down takes it.,7450 sales pr...</td>\n",
       "      <td>149000.0</td>\n",
       "    </tr>\n",
       "    <tr>\n",
       "      <th>9</th>\n",
       "      <td>https://austin.craigslist.org/ctd/d/manor-2013...</td>\n",
       "      <td>\\n        ,\\n\\n,\\n\\n,\\n\\n,\\n\\n\\n\\n,\\n\\n,\\n\\n,\\...</td>\n",
       "      <td>0.0</td>\n",
       "    </tr>\n",
       "    <tr>\n",
       "      <th>10</th>\n",
       "      <td>https://austin.craigslist.org/ctd/d/manor-2018...</td>\n",
       "      <td>\\n        ,\\n\\n,\\n\\n,\\n\\n,\\n\\n\\n\\n,\\n\\n,\\n\\n,\\...</td>\n",
       "      <td>0.0</td>\n",
       "    </tr>\n",
       "  </tbody>\n",
       "</table>\n",
       "</div>"
      ],
      "text/plain": [
       "                                          URL_Vehicle  \\\n",
       "0   https://austin.craigslist.org/ctd/d/temple-201...   \n",
       "1   https://austin.craigslist.org/cto/d/red-rock-2...   \n",
       "2   https://austin.craigslist.org/cto/d/marble-fal...   \n",
       "3   https://austin.craigslist.org/cto/d/marble-fal...   \n",
       "5   https://austin.craigslist.org/ctd/d/lockhart-2...   \n",
       "6   https://austin.craigslist.org/ctd/d/manor-2019...   \n",
       "7   https://austin.craigslist.org/ctd/d/houston-20...   \n",
       "8   https://austin.craigslist.org/ctd/d/austin-201...   \n",
       "9   https://austin.craigslist.org/ctd/d/manor-2013...   \n",
       "10  https://austin.craigslist.org/ctd/d/manor-2018...   \n",
       "\n",
       "                                                 Body  Odometer  \n",
       "0   \\n        ,\\nwww.TEXASDIESELSTORE.com,\\n,\\nCAL...     127.0  \n",
       "1   \\n        ,\\n2006 Ford Focus in great mechanic...       NaN  \n",
       "2   \\n        ,\\nThis is a really nice dependable ...  100000.0  \n",
       "3   \\n        ,\\nThis is a really nice 9 Passenger...  130000.0  \n",
       "5   \\n        ,\\n,\\n,\\naddress:    ,phone:      ☎ ...  102467.0  \n",
       "6   \\n        ,\\n\\n,\\n\\n,\\n\\n,\\n\\n\\n\\n,\\n\\n,\\n\\n,\\...       0.0  \n",
       "7   \\n        ,\\n,\\n\\n,We are dedicated to helping...   12820.0  \n",
       "8   \\n        ,\\n1000 down takes it.,7450 sales pr...  149000.0  \n",
       "9   \\n        ,\\n\\n,\\n\\n,\\n\\n,\\n\\n\\n\\n,\\n\\n,\\n\\n,\\...       0.0  \n",
       "10  \\n        ,\\n\\n,\\n\\n,\\n\\n,\\n\\n\\n\\n,\\n\\n,\\n\\n,\\...       0.0  "
      ]
     },
     "execution_count": 20,
     "metadata": {},
     "output_type": "execute_result"
    }
   ],
   "source": [
    "vehicle[['URL_Vehicle','Body','Odometer']].head(10)"
   ]
  },
  {
   "cell_type": "code",
   "execution_count": 21,
   "metadata": {},
   "outputs": [
    {
     "name": "stdout",
     "output_type": "stream",
     "text": [
      "In Body, 5968 missed matches for regex pattern: ((\\d+,?\\.?\\d+)(K\\s| miles)).\n"
     ]
    }
   ],
   "source": [
    "#Mine Odometer alternative from Body.\n",
    "odomAltList=r'((\\d+,?\\.?\\d+)(K\\s| miles))'\n",
    "odomAltList = match_regex_patt(df=vehicle, target_col='Body', regex_patt=odomAltList, no_match_value=np.nan)    \n",
    "vehicle['RawOdomAlt'] = odomAltList"
   ]
  },
  {
   "cell_type": "code",
   "execution_count": 22,
   "metadata": {},
   "outputs": [],
   "source": [
    "#Clean RawOdomAlt numbers.\n",
    "vehicle['RawOdomAlt'] = vehicle['RawOdomAlt'].str.replace('[Kk]', '000').str.replace(',', '')\\\n",
    "                        .str.replace('.', '').str.replace('miles', '').str.strip()\n",
    "\n",
    "#Set clean numbers less than 1,000 to np.nan.\n",
    "vehicle['OdomAlt'] = vehicle['RawOdomAlt'].astype('float')\n",
    "vehicle.loc[vehicle['OdomAlt'] < 1000, 'OdomAlt'] = np.nan\n",
    "\n",
    "#Assign the OdomAlt value to NaN Odometer values.  Drop RawOdomAlt and OdomAlt.\n",
    "vehicle.loc[vehicle['Odometer'].isna(), 'Odometer'] = vehicle.loc[vehicle['Odometer'].isna(), 'OdomAlt']\n",
    "vehicle.drop(['RawOdomAlt', 'OdomAlt'], axis='columns', inplace=True, errors='igonre')"
   ]
  },
  {
   "cell_type": "code",
   "execution_count": 23,
   "metadata": {
    "scrolled": true
   },
   "outputs": [],
   "source": [
    "# pd.options.display.max_rows = 500\n",
    "# vehicle.head(500)"
   ]
  },
  {
   "cell_type": "code",
   "execution_count": 24,
   "metadata": {},
   "outputs": [],
   "source": [
    "#Create dealer/owner features using URL_vehicle.\n",
    "vehicle['Seller']=vehicle['URL_Vehicle'].str.extract(r'(ct[o|d])')\n",
    "vehicle['Seller']=vehicle['Seller'].str.replace('ctd', 'dealer')\n",
    "vehicle['Seller']=vehicle['Seller'].str.replace('cto', 'owner')"
   ]
  },
  {
   "cell_type": "code",
   "execution_count": 25,
   "metadata": {},
   "outputs": [],
   "source": [
    "#vehicle.to_csv('vehicle.csv')"
   ]
  },
  {
   "cell_type": "code",
   "execution_count": 26,
   "metadata": {},
   "outputs": [
    {
     "data": {
      "text/html": [
       "<div>\n",
       "<style scoped>\n",
       "    .dataframe tbody tr th:only-of-type {\n",
       "        vertical-align: middle;\n",
       "    }\n",
       "\n",
       "    .dataframe tbody tr th {\n",
       "        vertical-align: top;\n",
       "    }\n",
       "\n",
       "    .dataframe thead th {\n",
       "        text-align: right;\n",
       "    }\n",
       "</style>\n",
       "<table border=\"1\" class=\"dataframe\">\n",
       "  <thead>\n",
       "    <tr style=\"text-align: right;\">\n",
       "      <th></th>\n",
       "      <th>URL_Vehicle</th>\n",
       "      <th>Title</th>\n",
       "      <th>Location</th>\n",
       "      <th>Year</th>\n",
       "      <th>Year_in_Title</th>\n",
       "      <th>Odometer</th>\n",
       "      <th>RawMake</th>\n",
       "      <th>Make</th>\n",
       "      <th>Model</th>\n",
       "      <th>Trim</th>\n",
       "      <th>Seller</th>\n",
       "      <th>Price</th>\n",
       "      <th>SubLoc</th>\n",
       "      <th>Body</th>\n",
       "      <th>AttribDictionary</th>\n",
       "      <th>ImageDictionary</th>\n",
       "      <th>VehicleID</th>\n",
       "      <th>VIN</th>\n",
       "    </tr>\n",
       "  </thead>\n",
       "  <tbody>\n",
       "    <tr>\n",
       "      <th>0</th>\n",
       "      <td>https://austin.craigslist.org/ctd/d/temple-201...</td>\n",
       "      <td>2016 FORD F350 XLT 6.7L DIESEL! 4X4 20\" ALCOAS...</td>\n",
       "      <td>austin</td>\n",
       "      <td>2016</td>\n",
       "      <td>NaN</td>\n",
       "      <td>127.0</td>\n",
       "      <td>NaN</td>\n",
       "      <td>NaN</td>\n",
       "      <td>NaN</td>\n",
       "      <td>NaN</td>\n",
       "      <td>dealer</td>\n",
       "      <td>$34799</td>\n",
       "      <td>(TEXASDIESELSTORE.COM)</td>\n",
       "      <td>\\n        ,\\nwww.TEXASDIESELSTORE.com,\\n,\\nCAL...</td>\n",
       "      <td>{'0': '&lt;span&gt;&lt;b&gt;2016 FORD&lt;/b&gt;&lt;/span&gt;', '1': '&lt;...</td>\n",
       "      <td>{'0': 'https://images.craigslist.org/00505_1T8...</td>\n",
       "      <td>7022706459</td>\n",
       "      <td>None1</td>\n",
       "    </tr>\n",
       "    <tr>\n",
       "      <th>1</th>\n",
       "      <td>https://austin.craigslist.org/cto/d/red-rock-2...</td>\n",
       "      <td>2006 Ford Focus SE</td>\n",
       "      <td>austin</td>\n",
       "      <td>2006</td>\n",
       "      <td>NaN</td>\n",
       "      <td>181000.0</td>\n",
       "      <td>NaN</td>\n",
       "      <td>NaN</td>\n",
       "      <td>NaN</td>\n",
       "      <td>NaN</td>\n",
       "      <td>owner</td>\n",
       "      <td>$3000</td>\n",
       "      <td>(Cedar Creek)</td>\n",
       "      <td>\\n        ,\\n2006 Ford Focus in great mechanic...</td>\n",
       "      <td>{'0': '&lt;span&gt;&lt;b&gt;2006 Ford Focus SE&lt;/b&gt;&lt;/span&gt;'...</td>\n",
       "      <td>{'0': 'https://images.craigslist.org/00n0n_dXT...</td>\n",
       "      <td>7022331083</td>\n",
       "      <td>None2</td>\n",
       "    </tr>\n",
       "  </tbody>\n",
       "</table>\n",
       "</div>"
      ],
      "text/plain": [
       "                                         URL_Vehicle  \\\n",
       "0  https://austin.craigslist.org/ctd/d/temple-201...   \n",
       "1  https://austin.craigslist.org/cto/d/red-rock-2...   \n",
       "\n",
       "                                               Title Location  Year  \\\n",
       "0  2016 FORD F350 XLT 6.7L DIESEL! 4X4 20\" ALCOAS...   austin  2016   \n",
       "1                                 2006 Ford Focus SE   austin  2006   \n",
       "\n",
       "   Year_in_Title  Odometer  RawMake  Make  Model  Trim  Seller   Price  \\\n",
       "0            NaN     127.0      NaN   NaN    NaN   NaN  dealer  $34799   \n",
       "1            NaN  181000.0      NaN   NaN    NaN   NaN   owner   $3000   \n",
       "\n",
       "                   SubLoc                                               Body  \\\n",
       "0  (TEXASDIESELSTORE.COM)  \\n        ,\\nwww.TEXASDIESELSTORE.com,\\n,\\nCAL...   \n",
       "1           (Cedar Creek)  \\n        ,\\n2006 Ford Focus in great mechanic...   \n",
       "\n",
       "                                    AttribDictionary  \\\n",
       "0  {'0': '<span><b>2016 FORD</b></span>', '1': '<...   \n",
       "1  {'0': '<span><b>2006 Ford Focus SE</b></span>'...   \n",
       "\n",
       "                                     ImageDictionary   VehicleID    VIN  \n",
       "0  {'0': 'https://images.craigslist.org/00505_1T8...  7022706459  None1  \n",
       "1  {'0': 'https://images.craigslist.org/00n0n_dXT...  7022331083  None2  "
      ]
     },
     "execution_count": 26,
     "metadata": {},
     "output_type": "execute_result"
    }
   ],
   "source": [
    "vehicle.head(2)"
   ]
  },
  {
   "cell_type": "code",
   "execution_count": 27,
   "metadata": {},
   "outputs": [],
   "source": [
    "#Extract RawMake col from AttribDictionary.\n",
    "rawMakeList=[]\n",
    "for idx in vehicle.index:\n",
    "    m = re.search(r'<b>(.+)</b>', vehicle.loc[idx, 'AttribDictionary']['0']) #re.search(pattern, string) gets first match\n",
    "    if m is not None:\n",
    "        rawMakeList.append(m.group(1).lower())\n",
    "    else:\n",
    "        print('Missing Make/Model index:', idx)\n",
    "        rawMakeList.append('None')\n",
    "                 \n",
    "vehicle['RawMake'] = rawMakeList"
   ]
  },
  {
   "cell_type": "code",
   "execution_count": 28,
   "metadata": {},
   "outputs": [
    {
     "data": {
      "text/html": [
       "<div>\n",
       "<style scoped>\n",
       "    .dataframe tbody tr th:only-of-type {\n",
       "        vertical-align: middle;\n",
       "    }\n",
       "\n",
       "    .dataframe tbody tr th {\n",
       "        vertical-align: top;\n",
       "    }\n",
       "\n",
       "    .dataframe thead th {\n",
       "        text-align: right;\n",
       "    }\n",
       "</style>\n",
       "<table border=\"1\" class=\"dataframe\">\n",
       "  <thead>\n",
       "    <tr style=\"text-align: right;\">\n",
       "      <th></th>\n",
       "      <th>URL_Vehicle</th>\n",
       "      <th>Title</th>\n",
       "      <th>Location</th>\n",
       "      <th>Year</th>\n",
       "      <th>Year_in_Title</th>\n",
       "      <th>Odometer</th>\n",
       "      <th>RawMake</th>\n",
       "      <th>Make</th>\n",
       "      <th>Model</th>\n",
       "      <th>Trim</th>\n",
       "      <th>Seller</th>\n",
       "      <th>Price</th>\n",
       "      <th>SubLoc</th>\n",
       "      <th>Body</th>\n",
       "      <th>AttribDictionary</th>\n",
       "      <th>ImageDictionary</th>\n",
       "      <th>VehicleID</th>\n",
       "      <th>VIN</th>\n",
       "    </tr>\n",
       "  </thead>\n",
       "  <tbody>\n",
       "    <tr>\n",
       "      <th>0</th>\n",
       "      <td>https://austin.craigslist.org/ctd/d/temple-201...</td>\n",
       "      <td>2016 FORD F350 XLT 6.7L DIESEL! 4X4 20\" ALCOAS...</td>\n",
       "      <td>austin</td>\n",
       "      <td>2016</td>\n",
       "      <td>NaN</td>\n",
       "      <td>127.0</td>\n",
       "      <td>2016 ford</td>\n",
       "      <td>NaN</td>\n",
       "      <td>NaN</td>\n",
       "      <td>NaN</td>\n",
       "      <td>dealer</td>\n",
       "      <td>$34799</td>\n",
       "      <td>(TEXASDIESELSTORE.COM)</td>\n",
       "      <td>\\n        ,\\nwww.TEXASDIESELSTORE.com,\\n,\\nCAL...</td>\n",
       "      <td>{'0': '&lt;span&gt;&lt;b&gt;2016 FORD&lt;/b&gt;&lt;/span&gt;', '1': '&lt;...</td>\n",
       "      <td>{'0': 'https://images.craigslist.org/00505_1T8...</td>\n",
       "      <td>7022706459</td>\n",
       "      <td>None1</td>\n",
       "    </tr>\n",
       "    <tr>\n",
       "      <th>1</th>\n",
       "      <td>https://austin.craigslist.org/cto/d/red-rock-2...</td>\n",
       "      <td>2006 Ford Focus SE</td>\n",
       "      <td>austin</td>\n",
       "      <td>2006</td>\n",
       "      <td>NaN</td>\n",
       "      <td>181000.0</td>\n",
       "      <td>2006 ford focus se</td>\n",
       "      <td>NaN</td>\n",
       "      <td>NaN</td>\n",
       "      <td>NaN</td>\n",
       "      <td>owner</td>\n",
       "      <td>$3000</td>\n",
       "      <td>(Cedar Creek)</td>\n",
       "      <td>\\n        ,\\n2006 Ford Focus in great mechanic...</td>\n",
       "      <td>{'0': '&lt;span&gt;&lt;b&gt;2006 Ford Focus SE&lt;/b&gt;&lt;/span&gt;'...</td>\n",
       "      <td>{'0': 'https://images.craigslist.org/00n0n_dXT...</td>\n",
       "      <td>7022331083</td>\n",
       "      <td>None2</td>\n",
       "    </tr>\n",
       "  </tbody>\n",
       "</table>\n",
       "</div>"
      ],
      "text/plain": [
       "                                         URL_Vehicle  \\\n",
       "0  https://austin.craigslist.org/ctd/d/temple-201...   \n",
       "1  https://austin.craigslist.org/cto/d/red-rock-2...   \n",
       "\n",
       "                                               Title Location  Year  \\\n",
       "0  2016 FORD F350 XLT 6.7L DIESEL! 4X4 20\" ALCOAS...   austin  2016   \n",
       "1                                 2006 Ford Focus SE   austin  2006   \n",
       "\n",
       "   Year_in_Title  Odometer             RawMake  Make  Model  Trim  Seller  \\\n",
       "0            NaN     127.0           2016 ford   NaN    NaN   NaN  dealer   \n",
       "1            NaN  181000.0  2006 ford focus se   NaN    NaN   NaN   owner   \n",
       "\n",
       "    Price                  SubLoc  \\\n",
       "0  $34799  (TEXASDIESELSTORE.COM)   \n",
       "1   $3000           (Cedar Creek)   \n",
       "\n",
       "                                                Body  \\\n",
       "0  \\n        ,\\nwww.TEXASDIESELSTORE.com,\\n,\\nCAL...   \n",
       "1  \\n        ,\\n2006 Ford Focus in great mechanic...   \n",
       "\n",
       "                                    AttribDictionary  \\\n",
       "0  {'0': '<span><b>2016 FORD</b></span>', '1': '<...   \n",
       "1  {'0': '<span><b>2006 Ford Focus SE</b></span>'...   \n",
       "\n",
       "                                     ImageDictionary   VehicleID    VIN  \n",
       "0  {'0': 'https://images.craigslist.org/00505_1T8...  7022706459  None1  \n",
       "1  {'0': 'https://images.craigslist.org/00n0n_dXT...  7022331083  None2  "
      ]
     },
     "execution_count": 28,
     "metadata": {},
     "output_type": "execute_result"
    }
   ],
   "source": [
    "vehicle.head(2)"
   ]
  },
  {
   "cell_type": "code",
   "execution_count": 29,
   "metadata": {},
   "outputs": [
    {
     "name": "stdout",
     "output_type": "stream",
     "text": [
      "In RawMake, 104 missed matches for regex pattern: (ford)\\s.\n",
      "In RawMake, 144 missed matches for regex pattern: ford\\s(\\w+-{0,1}\\S+).\n",
      "In RawMake, 5982 missed matches for regex pattern: ford\\s\\w+-{0,1}\\S+\\s(\\w+).\n",
      "In RawMake, 7932 missed matches for regex pattern: ford\\s\\w+\\s\\w+\\s(\\w+-{0,1}\\S+).\n"
     ]
    }
   ],
   "source": [
    "#Populate Make\n",
    "make_regex=r'(ford)\\s'\n",
    "makeList = match_regex_patt(df=vehicle, target_col='RawMake', regex_patt=make_regex, no_match_value='None')    \n",
    "vehicle['Make'] = makeList\n",
    "\n",
    "#Populate Model.  Search for ford + space + word + optional hyphen + NonWhiteSpace\n",
    "model_regex=r'ford\\s(\\w+-{0,1}\\S+)'\n",
    "modelList = match_regex_patt(df=vehicle, target_col='RawMake', regex_patt=model_regex, no_match_value='None')    \n",
    "vehicle['Model'] = modelList\n",
    "\n",
    "#Populate Trim.  Search for ford + space + word + optional hyphen + NonWhiteSpace + space + word\n",
    "trim_regex=r'ford\\s\\w+-{0,1}\\S+\\s(\\w+)'\n",
    "trimList = match_regex_patt(df=vehicle, target_col='RawMake', regex_patt=trim_regex, no_match_value='None')    \n",
    "vehicle['Trim'] = trimList\n",
    "\n",
    "#FIX scenario1: 'ford super duty myModel' issue.\n",
    "model_regex2=r'ford\\s\\w+\\s\\w+\\s(\\w+-{0,1}\\S+)'  #get word after 'ford super duty'\n",
    "model_for_super_1st = match_regex_patt(df=vehicle, target_col='RawMake', regex_patt=model_regex2, no_match_value='None')\n",
    "vehicle['Modelfix']=model_for_super_1st  #Use Modelfix for scenario1 vehicles only.\n",
    "\n",
    "#Correct Trim, then Model.  Drop 'Modelfix' column.\n",
    "vehicle.loc[vehicle['Model'] == 'super', 'Trim'] = 'super'\n",
    "vehicle.loc[vehicle['Model'] == 'super', 'Model'] = vehicle.loc[vehicle['Model'] == 'super', 'Modelfix']\n",
    "vehicle.drop(['Modelfix'], axis='columns', inplace = True, errors = 'ignore')"
   ]
  },
  {
   "cell_type": "code",
   "execution_count": null,
   "metadata": {},
   "outputs": [],
   "source": []
  },
  {
   "cell_type": "code",
   "execution_count": 30,
   "metadata": {},
   "outputs": [],
   "source": [
    "#Seach for trim + space/* in Title/Body.  Match starting alphanumeric character with class: [a-zA-Z0-9_].\n",
    "#IMPORTANT: Try long keywords before short keywords -- leftmost tried first.\n",
    "\n",
    "trimAltList=[]\n",
    "valid_trim_patt=r'[,\\.\\s\\*](convertible|commercial|commercial|flareside|hatchback|lightning|passenger|super\\s?cab|super\\s?crew|super\\s?duty|supercrew|ecoboost|extended|heritage|platinum|supercab|titanium|bullitt|chassis|connect|cutaway|diesels|flatbed|hightop|limited|natural|premium|service|shuttle|utility|access|bucket|diesel|diesel|dually|energi|harley|hybrid|lariat|outlaw|raptor|saleen|shelby|sports|tremor|cargo|cobra|coupe|e-150|e-250|e-350|e-450|eddie|sport|super|t-250|t-350|turbo|wagon|base|boss|crew|dump|edge|king|mach|4+4|4x4|box|drw|ext|fwd|fx2|fx4|fx5|ltz|max|sel|srw|stx|xls|xlt|xl|zx3|zx4|gt|lx|rs|se|st|tx)[,\\.\\s\\*]'\n",
    "\n",
    "for idx in vehicle.index:\n",
    "    m = re.search(valid_trim_patt, vehicle.loc[idx, 'Title'] + vehicle.loc[idx, 'Body'], flags=re.IGNORECASE) #re.search(pattern, string) gets first match\n",
    "    if m is not None:\n",
    "        trimAltList.append(m.group(1).lower())\n",
    "    else:\n",
    "        trimAltList.append('None')\n",
    "                 \n",
    "vehicle['TrimAlternate'] = trimAltList\n",
    "\n",
    "#Assign Trim = 'None' rows to the TrimAlternate.\n",
    "vehicle.loc[vehicle['Trim'] == 'None', 'Trim'] = vehicle.loc[vehicle['Trim'] == 'None', 'TrimAlternate']"
   ]
  },
  {
   "cell_type": "code",
   "execution_count": 31,
   "metadata": {},
   "outputs": [
    {
     "data": {
      "text/html": [
       "<div>\n",
       "<style scoped>\n",
       "    .dataframe tbody tr th:only-of-type {\n",
       "        vertical-align: middle;\n",
       "    }\n",
       "\n",
       "    .dataframe tbody tr th {\n",
       "        vertical-align: top;\n",
       "    }\n",
       "\n",
       "    .dataframe thead th {\n",
       "        text-align: right;\n",
       "    }\n",
       "</style>\n",
       "<table border=\"1\" class=\"dataframe\">\n",
       "  <thead>\n",
       "    <tr style=\"text-align: right;\">\n",
       "      <th></th>\n",
       "      <th>URL_Vehicle</th>\n",
       "      <th>Title</th>\n",
       "      <th>Location</th>\n",
       "      <th>Year</th>\n",
       "      <th>Year_in_Title</th>\n",
       "      <th>Odometer</th>\n",
       "      <th>RawMake</th>\n",
       "      <th>Make</th>\n",
       "      <th>Model</th>\n",
       "      <th>Trim</th>\n",
       "      <th>Seller</th>\n",
       "      <th>Price</th>\n",
       "      <th>SubLoc</th>\n",
       "      <th>Body</th>\n",
       "      <th>AttribDictionary</th>\n",
       "      <th>ImageDictionary</th>\n",
       "      <th>VehicleID</th>\n",
       "      <th>VIN</th>\n",
       "      <th>TrimAlternate</th>\n",
       "    </tr>\n",
       "  </thead>\n",
       "  <tbody>\n",
       "    <tr>\n",
       "      <th>0</th>\n",
       "      <td>https://austin.craigslist.org/ctd/d/temple-201...</td>\n",
       "      <td>2016 FORD F350 XLT 6.7L DIESEL! 4X4 20\" ALCOAS...</td>\n",
       "      <td>austin</td>\n",
       "      <td>2016</td>\n",
       "      <td>NaN</td>\n",
       "      <td>127.0</td>\n",
       "      <td>2016 ford</td>\n",
       "      <td>None</td>\n",
       "      <td>None</td>\n",
       "      <td>xlt</td>\n",
       "      <td>dealer</td>\n",
       "      <td>$34799</td>\n",
       "      <td>(TEXASDIESELSTORE.COM)</td>\n",
       "      <td>\\n        ,\\nwww.TEXASDIESELSTORE.com,\\n,\\nCAL...</td>\n",
       "      <td>{'0': '&lt;span&gt;&lt;b&gt;2016 FORD&lt;/b&gt;&lt;/span&gt;', '1': '&lt;...</td>\n",
       "      <td>{'0': 'https://images.craigslist.org/00505_1T8...</td>\n",
       "      <td>7022706459</td>\n",
       "      <td>None1</td>\n",
       "      <td>xlt</td>\n",
       "    </tr>\n",
       "    <tr>\n",
       "      <th>1</th>\n",
       "      <td>https://austin.craigslist.org/cto/d/red-rock-2...</td>\n",
       "      <td>2006 Ford Focus SE</td>\n",
       "      <td>austin</td>\n",
       "      <td>2006</td>\n",
       "      <td>NaN</td>\n",
       "      <td>181000.0</td>\n",
       "      <td>2006 ford focus se</td>\n",
       "      <td>ford</td>\n",
       "      <td>focus</td>\n",
       "      <td>se</td>\n",
       "      <td>owner</td>\n",
       "      <td>$3000</td>\n",
       "      <td>(Cedar Creek)</td>\n",
       "      <td>\\n        ,\\n2006 Ford Focus in great mechanic...</td>\n",
       "      <td>{'0': '&lt;span&gt;&lt;b&gt;2006 Ford Focus SE&lt;/b&gt;&lt;/span&gt;'...</td>\n",
       "      <td>{'0': 'https://images.craigslist.org/00n0n_dXT...</td>\n",
       "      <td>7022331083</td>\n",
       "      <td>None2</td>\n",
       "      <td>se</td>\n",
       "    </tr>\n",
       "    <tr>\n",
       "      <th>2</th>\n",
       "      <td>https://austin.craigslist.org/cto/d/marble-fal...</td>\n",
       "      <td>‘04 FORD F450 SERVICE TRUCK</td>\n",
       "      <td>austin</td>\n",
       "      <td>2004</td>\n",
       "      <td>NaN</td>\n",
       "      <td>100000.0</td>\n",
       "      <td>2004 ford f450</td>\n",
       "      <td>ford</td>\n",
       "      <td>f450</td>\n",
       "      <td>service</td>\n",
       "      <td>owner</td>\n",
       "      <td>$8950</td>\n",
       "      <td>(Marble Falls)</td>\n",
       "      <td>\\n        ,\\nThis is a really nice dependable ...</td>\n",
       "      <td>{'0': '&lt;span&gt;&lt;b&gt;2004 FORD F450&lt;/b&gt;&lt;/span&gt;', '1...</td>\n",
       "      <td>{'0': 'https://images.craigslist.org/01717_30H...</td>\n",
       "      <td>7022347414</td>\n",
       "      <td>None3</td>\n",
       "      <td>service</td>\n",
       "    </tr>\n",
       "  </tbody>\n",
       "</table>\n",
       "</div>"
      ],
      "text/plain": [
       "                                         URL_Vehicle  \\\n",
       "0  https://austin.craigslist.org/ctd/d/temple-201...   \n",
       "1  https://austin.craigslist.org/cto/d/red-rock-2...   \n",
       "2  https://austin.craigslist.org/cto/d/marble-fal...   \n",
       "\n",
       "                                               Title Location  Year  \\\n",
       "0  2016 FORD F350 XLT 6.7L DIESEL! 4X4 20\" ALCOAS...   austin  2016   \n",
       "1                                 2006 Ford Focus SE   austin  2006   \n",
       "2                        ‘04 FORD F450 SERVICE TRUCK   austin  2004   \n",
       "\n",
       "   Year_in_Title  Odometer             RawMake  Make  Model     Trim  Seller  \\\n",
       "0            NaN     127.0           2016 ford  None   None      xlt  dealer   \n",
       "1            NaN  181000.0  2006 ford focus se  ford  focus       se   owner   \n",
       "2            NaN  100000.0      2004 ford f450  ford   f450  service   owner   \n",
       "\n",
       "    Price                  SubLoc  \\\n",
       "0  $34799  (TEXASDIESELSTORE.COM)   \n",
       "1   $3000           (Cedar Creek)   \n",
       "2   $8950          (Marble Falls)   \n",
       "\n",
       "                                                Body  \\\n",
       "0  \\n        ,\\nwww.TEXASDIESELSTORE.com,\\n,\\nCAL...   \n",
       "1  \\n        ,\\n2006 Ford Focus in great mechanic...   \n",
       "2  \\n        ,\\nThis is a really nice dependable ...   \n",
       "\n",
       "                                    AttribDictionary  \\\n",
       "0  {'0': '<span><b>2016 FORD</b></span>', '1': '<...   \n",
       "1  {'0': '<span><b>2006 Ford Focus SE</b></span>'...   \n",
       "2  {'0': '<span><b>2004 FORD F450</b></span>', '1...   \n",
       "\n",
       "                                     ImageDictionary   VehicleID    VIN  \\\n",
       "0  {'0': 'https://images.craigslist.org/00505_1T8...  7022706459  None1   \n",
       "1  {'0': 'https://images.craigslist.org/00n0n_dXT...  7022331083  None2   \n",
       "2  {'0': 'https://images.craigslist.org/01717_30H...  7022347414  None3   \n",
       "\n",
       "  TrimAlternate  \n",
       "0           xlt  \n",
       "1            se  \n",
       "2       service  "
      ]
     },
     "execution_count": 31,
     "metadata": {},
     "output_type": "execute_result"
    }
   ],
   "source": [
    "vehicle.head(3)"
   ]
  },
  {
   "cell_type": "code",
   "execution_count": 32,
   "metadata": {},
   "outputs": [
    {
     "data": {
      "text/plain": [
       "1"
      ]
     },
     "execution_count": 32,
     "metadata": {},
     "output_type": "execute_result"
    }
   ],
   "source": [
    "arr=np.array([10,22,5,55])\n",
    "lst=list(arr)\n",
    "lst.count(22)"
   ]
  },
  {
   "cell_type": "code",
   "execution_count": null,
   "metadata": {},
   "outputs": [],
   "source": []
  },
  {
   "cell_type": "code",
   "execution_count": 33,
   "metadata": {},
   "outputs": [],
   "source": [
    "#Scrub Price - remove any $, periods, and spaces.  Note:  ORDER IS IMPORTANT!!!\n",
    "#No raw string -- we want \"\\\" to escape next character.\n",
    "vehicle['Price']=vehicle['Price'].str.replace('\\,', '')\n",
    "vehicle['Price']=vehicle['Price'].str.replace('\\.00', '')\n",
    "vehicle['Price']=vehicle['Price'].str.replace('\\.0', '')\n",
    "vehicle['Price']=vehicle['Price'].str.replace('\\$', '')\n",
    "vehicle['Price']=vehicle['Price'].str.replace('-', '')\n",
    "vehicle['Price']=vehicle['Price'].str.replace(' ', '')\n",
    "vehicle['Price']=vehicle['Price'].str.replace('\\.', 'None')"
   ]
  },
  {
   "cell_type": "code",
   "execution_count": 34,
   "metadata": {},
   "outputs": [
    {
     "data": {
      "text/html": [
       "<div>\n",
       "<style scoped>\n",
       "    .dataframe tbody tr th:only-of-type {\n",
       "        vertical-align: middle;\n",
       "    }\n",
       "\n",
       "    .dataframe tbody tr th {\n",
       "        vertical-align: top;\n",
       "    }\n",
       "\n",
       "    .dataframe thead th {\n",
       "        text-align: right;\n",
       "    }\n",
       "</style>\n",
       "<table border=\"1\" class=\"dataframe\">\n",
       "  <thead>\n",
       "    <tr style=\"text-align: right;\">\n",
       "      <th></th>\n",
       "      <th>URL_Vehicle</th>\n",
       "      <th>Title</th>\n",
       "      <th>Location</th>\n",
       "      <th>Year</th>\n",
       "      <th>Year_in_Title</th>\n",
       "      <th>Odometer</th>\n",
       "      <th>RawMake</th>\n",
       "      <th>Make</th>\n",
       "      <th>Model</th>\n",
       "      <th>Trim</th>\n",
       "      <th>Seller</th>\n",
       "      <th>Price</th>\n",
       "      <th>SubLoc</th>\n",
       "      <th>Body</th>\n",
       "      <th>AttribDictionary</th>\n",
       "      <th>ImageDictionary</th>\n",
       "      <th>VehicleID</th>\n",
       "      <th>VIN</th>\n",
       "      <th>TrimAlternate</th>\n",
       "    </tr>\n",
       "  </thead>\n",
       "  <tbody>\n",
       "    <tr>\n",
       "      <th>0</th>\n",
       "      <td>https://austin.craigslist.org/ctd/d/temple-201...</td>\n",
       "      <td>2016 FORD F350 XLT 6.7L DIESEL! 4X4 20\" ALCOAS...</td>\n",
       "      <td>austin</td>\n",
       "      <td>2016</td>\n",
       "      <td>NaN</td>\n",
       "      <td>127.0</td>\n",
       "      <td>2016 ford</td>\n",
       "      <td>None</td>\n",
       "      <td>None</td>\n",
       "      <td>xlt</td>\n",
       "      <td>dealer</td>\n",
       "      <td>34799</td>\n",
       "      <td>(TEXASDIESELSTORE.COM)</td>\n",
       "      <td>\\n        ,\\nwww.TEXASDIESELSTORE.com,\\n,\\nCAL...</td>\n",
       "      <td>{'0': '&lt;span&gt;&lt;b&gt;2016 FORD&lt;/b&gt;&lt;/span&gt;', '1': '&lt;...</td>\n",
       "      <td>{'0': 'https://images.craigslist.org/00505_1T8...</td>\n",
       "      <td>7022706459</td>\n",
       "      <td>None1</td>\n",
       "      <td>xlt</td>\n",
       "    </tr>\n",
       "    <tr>\n",
       "      <th>1</th>\n",
       "      <td>https://austin.craigslist.org/cto/d/red-rock-2...</td>\n",
       "      <td>2006 Ford Focus SE</td>\n",
       "      <td>austin</td>\n",
       "      <td>2006</td>\n",
       "      <td>NaN</td>\n",
       "      <td>181000.0</td>\n",
       "      <td>2006 ford focus se</td>\n",
       "      <td>ford</td>\n",
       "      <td>focus</td>\n",
       "      <td>se</td>\n",
       "      <td>owner</td>\n",
       "      <td>3000</td>\n",
       "      <td>(Cedar Creek)</td>\n",
       "      <td>\\n        ,\\n2006 Ford Focus in great mechanic...</td>\n",
       "      <td>{'0': '&lt;span&gt;&lt;b&gt;2006 Ford Focus SE&lt;/b&gt;&lt;/span&gt;'...</td>\n",
       "      <td>{'0': 'https://images.craigslist.org/00n0n_dXT...</td>\n",
       "      <td>7022331083</td>\n",
       "      <td>None2</td>\n",
       "      <td>se</td>\n",
       "    </tr>\n",
       "  </tbody>\n",
       "</table>\n",
       "</div>"
      ],
      "text/plain": [
       "                                         URL_Vehicle  \\\n",
       "0  https://austin.craigslist.org/ctd/d/temple-201...   \n",
       "1  https://austin.craigslist.org/cto/d/red-rock-2...   \n",
       "\n",
       "                                               Title Location  Year  \\\n",
       "0  2016 FORD F350 XLT 6.7L DIESEL! 4X4 20\" ALCOAS...   austin  2016   \n",
       "1                                 2006 Ford Focus SE   austin  2006   \n",
       "\n",
       "   Year_in_Title  Odometer             RawMake  Make  Model Trim  Seller  \\\n",
       "0            NaN     127.0           2016 ford  None   None  xlt  dealer   \n",
       "1            NaN  181000.0  2006 ford focus se  ford  focus   se   owner   \n",
       "\n",
       "   Price                  SubLoc  \\\n",
       "0  34799  (TEXASDIESELSTORE.COM)   \n",
       "1   3000           (Cedar Creek)   \n",
       "\n",
       "                                                Body  \\\n",
       "0  \\n        ,\\nwww.TEXASDIESELSTORE.com,\\n,\\nCAL...   \n",
       "1  \\n        ,\\n2006 Ford Focus in great mechanic...   \n",
       "\n",
       "                                    AttribDictionary  \\\n",
       "0  {'0': '<span><b>2016 FORD</b></span>', '1': '<...   \n",
       "1  {'0': '<span><b>2006 Ford Focus SE</b></span>'...   \n",
       "\n",
       "                                     ImageDictionary   VehicleID    VIN  \\\n",
       "0  {'0': 'https://images.craigslist.org/00505_1T8...  7022706459  None1   \n",
       "1  {'0': 'https://images.craigslist.org/00n0n_dXT...  7022331083  None2   \n",
       "\n",
       "  TrimAlternate  \n",
       "0           xlt  \n",
       "1            se  "
      ]
     },
     "execution_count": 34,
     "metadata": {},
     "output_type": "execute_result"
    }
   ],
   "source": [
    "vehicle.head(2)"
   ]
  },
  {
   "cell_type": "code",
   "execution_count": 35,
   "metadata": {},
   "outputs": [
    {
     "name": "stdout",
     "output_type": "stream",
     "text": [
      "Drop 1180 missing price rows: Int64Index([   12,    15,    33,    44,    45,    46,    63,    64,    81,\n",
      "               84,\n",
      "            ...\n",
      "            10438, 10471, 10472, 10481, 10491, 10493, 10499, 10505, 10518,\n",
      "            10520],\n",
      "           dtype='int64', length=1180) \n",
      "\n",
      "Drop 93 non-ford makes: Int64Index([    0,   164,   221,   257,   374,   452,   456,   489,   687,\n",
      "              736,   783,   787,   869,   890,  1102,  1182,  1183,  1212,\n",
      "             1303,  1464,  1554,  1558,  2167,  2199,  2296,  2366,  2482,\n",
      "             2552,  2838,  2897,  2898,  3078,  4439,  4591,  4593,  4797,\n",
      "             4885,  4919,  4941,  5043,  5083,  5084,  5101,  5102,  5164,\n",
      "             5320,  5436,  5601,  5678,  5679,  5717,  5720,  5756,  6216,\n",
      "             6839,  6883,  6941,  7007,  7096,  7135,  7137,  7185,  7255,\n",
      "             7545,  7586,  7852,  8126,  8146,  8247,  8248,  8279,  8444,\n",
      "             8586,  8590,  8606,  8905,  8924,  9197,  9327,  9413,  9422,\n",
      "             9563,  9941,  9965, 10062, 10092, 10101, 10108, 10185, 10248,\n",
      "            10351, 10496, 10536],\n",
      "           dtype='int64')\n"
     ]
    }
   ],
   "source": [
    "#Price is missing, None, or blank.  Drop corresponding rows.\n",
    "filt = (vehicle['Price'].isna()) | (vehicle['Price'] == 'None') | (vehicle['Price'] == '')\n",
    "drop_indices = vehicle[filt].index\n",
    "print(f'Drop {len(drop_indices)} missing price rows:', drop_indices, '\\n')\n",
    "vehicle.drop(index = drop_indices, inplace = True, errors = 'ignore')\n",
    "\n",
    "#Make isn't 'ford'.  Drop corresponding rows.\n",
    "filt = (vehicle['Make'] != 'ford')\n",
    "drop_indices = vehicle[filt].index\n",
    "print(f'Drop {len(drop_indices)} non-ford makes:', drop_indices)\n",
    "vehicle.drop(index = drop_indices, inplace = True, errors = 'ignore')\n",
    "\n",
    "#Cast Price as float.\n",
    "vehicle['Price'] = vehicle['Price'].astype('float')\n",
    "assert len(vehicle[vehicle['Price'].isna()]) == 0, \"Price cannot have NAs.\""
   ]
  },
  {
   "cell_type": "code",
   "execution_count": 36,
   "metadata": {},
   "outputs": [
    {
     "name": "stdout",
     "output_type": "stream",
     "text": [
      "Drop 526 DOWN prices under $5,001: Int64Index([    8,    79,    88,   102,   141,   199,   200,   530,   696,\n",
      "              733,\n",
      "            ...\n",
      "            10333, 10337, 10396, 10419, 10442, 10474, 10484, 10490, 10497,\n",
      "            10526],\n",
      "           dtype='int64', length=526)\n",
      "Drop 14 prices over $74,999: Int64Index([ 597, 2162, 2908, 3481, 3823, 4018, 5638, 6418, 6702, 6798, 6799,\n",
      "            7188, 7190, 8713],\n",
      "           dtype='int64')\n"
     ]
    }
   ],
   "source": [
    "#Flag invalid \"DOWN/DP\" prices by searching Title/SubLoc.  Drop \"DOWN\" prices under $5,001.  Cannot be \"DOWNTOWN\".\n",
    "downList=[]\n",
    "for idx in vehicle.index:\n",
    "    m = re.search(r'(DP |DOWN)[^T]', vehicle.loc[idx, 'Title'] + vehicle.loc[idx, 'Body'] + vehicle.loc[idx, 'SubLoc'], flags=re.IGNORECASE) #re.search(pattern, string) gets first match\n",
    "    if m is not None:\n",
    "        downList.append('down')\n",
    "    else:\n",
    "        downList.append('None')\n",
    "                 \n",
    "vehicle['DownFlag'] = downList\n",
    "\n",
    "filt = (vehicle['DownFlag'] == 'down') & (vehicle['Price'] < 5001)\n",
    "drop_indices = vehicle[filt].index\n",
    "print(f'Drop {len(drop_indices)} DOWN prices under $5,001:', drop_indices)\n",
    "vehicle.drop(index = drop_indices, inplace = True, errors = 'ignore')\n",
    "\n",
    "#Drop $75,000+ prices.\n",
    "filt2 = vehicle['Price'] > 74999\n",
    "drop_indices = vehicle[filt2].index\n",
    "print(f'Drop {len(drop_indices)} prices over $74,999:', drop_indices)\n",
    "vehicle.drop(index = drop_indices, inplace = True, errors = 'ignore')"
   ]
  },
  {
   "cell_type": "code",
   "execution_count": 37,
   "metadata": {},
   "outputs": [
    {
     "data": {
      "image/png": "[encoded data removed]",
      "text/plain": [
       "<Figure size 1080x576 with 1 Axes>"
      ]
     },
     "metadata": {
      "needs_background": "light"
     },
     "output_type": "display_data"
    }
   ],
   "source": [
    "plt.figure(figsize=(15,8))\n",
    "sns.scatterplot(x='Year',y='Price', data=vehicle,  marker= '+')\n",
    "plt.show()"
   ]
  },
  {
   "cell_type": "code",
   "execution_count": null,
   "metadata": {},
   "outputs": [],
   "source": []
  },
  {
   "cell_type": "code",
   "execution_count": null,
   "metadata": {},
   "outputs": [],
   "source": []
  },
  {
   "cell_type": "code",
   "execution_count": 38,
   "metadata": {},
   "outputs": [],
   "source": [
    "#Fix Model names.\n",
    "model_dict={\n",
    "            'Model': {np.nan : 'None', \n",
    "                      '' : 'None',\n",
    "                      'f150' : 'f-150',\n",
    "                      'f250' : 'f-250', \n",
    "                      'f350' : 'f-350', \n",
    "                      'f450' : 'f-450'}\n",
    "            }\n",
    "\n",
    "vehicle.replace(model_dict, inplace=True)\n",
    "\n",
    "#Fix Trim names.  LGB  and Ridge do best with NaN fix only.  Worse with spelling correction.\n",
    "#And still worse with spelling and None corrections.\n",
    "trim_dict={'Trim': {np.nan : 'None'}}\n",
    "\n",
    "# trim_dict = {'Trim': {np.nan: 'None',\n",
    "#                       'crewcab': 'crew',                      \n",
    "#                       'deisel': 'diesel',\n",
    "#                       'e150': 'e-150',\n",
    "#                       'e250': 'e-250',\n",
    "#                       'e350': 'e-350',\n",
    "#                       'e450': 'e-450',\n",
    "#                       'f550': 'f-550',                \n",
    "#                       'harley-': 'harley',                \n",
    "#                       'kingranch4x4crewdiesel': 'king',\n",
    "#                       'passanger': 'passenger',\n",
    "#                       'rapto': 'raptor',\n",
    "#                       'super cab': 'super_cab',\n",
    "#                       'supercab': 'super_cab',\n",
    "#                       'super crew': 'super_crew',\n",
    "#                       'supercrew': 'super_crew',\n",
    "#                       'sd': 'super_duty',\n",
    "#                       'super': 'super_duty',\n",
    "#                       'súper': 'super_duty',\n",
    "#                       'superduty': 'super_duty',\n",
    "#                       'super duty': 'super_duty',\n",
    "#                       'svt': 'raptor',\n",
    "#                       'sxt': 'stx',\n",
    "#                       't150': 't-150',\n",
    "#                       't250': 't-250',\n",
    "#                       'tit': 'titanium'}}\n",
    "\n",
    "vehicle.replace(trim_dict, inplace=True)"
   ]
  },
  {
   "cell_type": "code",
   "execution_count": 39,
   "metadata": {
    "scrolled": true
   },
   "outputs": [],
   "source": [
    "# #View any dup VINs\n",
    "# pd.options.display.max_rows = 999\n",
    "# vehicle.groupby(['Location','Seller','VIN']).agg({'VIN': 'count'}).nlargest(600,'VIN')"
   ]
  },
  {
   "cell_type": "code",
   "execution_count": 40,
   "metadata": {},
   "outputs": [
    {
     "name": "stdout",
     "output_type": "stream",
     "text": [
      "#### Drop 16 Odometer is zero miles: Int64Index([   6,    9,   10,  178,  573, 1338, 1414, 1415, 1449, 1450, 2189,\n",
      "            5072, 6073, 7020, 8619, 8655],\n",
      "           dtype='int64')\n",
      "\n",
      "#### Duplicate VINs dropped: 1326\n",
      "\n",
      "#### Duplicate Vehicles dropped: 622\n"
     ]
    }
   ],
   "source": [
    "#Drop Odometer=0.\n",
    "odZeroFilt = (vehicle['Odometer'] == 0)\n",
    "drop_indices = vehicle[odZeroFilt].index\n",
    "print(f'#### Drop {len(drop_indices)} Odometer is zero miles:', drop_indices)\n",
    "vehicle.drop(index = drop_indices, inplace = True, errors = 'ignore')\n",
    "\n",
    "# #Drop duplicate VINs.  Over 60% of VINs are duplicates.  FIX OUTLIERS FIRST.\n",
    "print('\\n#### Duplicate VINs dropped:', vehicle.duplicated(subset=['VIN'], keep='first').sum())\n",
    "vehicle.drop_duplicates(subset=['VIN'], inplace=True)\n",
    "\n",
    "# #Drop vehicles with duplicate Title/Odometer/Price.\n",
    "print('\\n#### Duplicate Vehicles dropped:', vehicle.duplicated(subset=['Title', 'Odometer', 'Price'], keep='first').sum())\n",
    "vehicle.drop_duplicates(subset=['Title', 'Odometer', 'Price'], inplace=True)"
   ]
  },
  {
   "cell_type": "code",
   "execution_count": 41,
   "metadata": {},
   "outputs": [
    {
     "data": {
      "text/plain": [
       "5950"
      ]
     },
     "execution_count": 41,
     "metadata": {},
     "output_type": "execute_result"
    }
   ],
   "source": [
    "len(vehicle)"
   ]
  },
  {
   "cell_type": "code",
   "execution_count": 42,
   "metadata": {},
   "outputs": [
    {
     "name": "stdout",
     "output_type": "stream",
     "text": [
      "**** No LightGBM improvement from LN transform of price.  Linear models improve. ****\n"
     ]
    },
    {
     "data": {
      "image/png": "[encoded data removed]",
      "text/plain": [
       "<Figure size 576x216 with 2 Axes>"
      ]
     },
     "metadata": {
      "needs_background": "light"
     },
     "output_type": "display_data"
    },
    {
     "data": {
      "image/png": "[encoded data removed]",
      "text/plain": [
       "<Figure size 576x216 with 2 Axes>"
      ]
     },
     "metadata": {
      "needs_background": "light"
     },
     "output_type": "display_data"
    }
   ],
   "source": [
    "from scipy import stats\n",
    "from scipy.stats import norm\n",
    "\n",
    "def normalize_feature(df, bad_feature):\n",
    "    \n",
    "    #Make histogram & normal probability plot\n",
    "    fig, (ax1,ax2) = plt.subplots(1,2,figsize=(8,3),constrained_layout=True)\n",
    "    sns.distplot(df[bad_feature], color='r', fit=stats.norm, ax=ax1)\n",
    "    ax1.set_title(f'{bad_feature} Histogram - Not Normal Distribution')\n",
    "    res=stats.probplot(df[bad_feature], dist='norm', plot=ax2)\n",
    "    ax2.set_title('Fit to Normal Distribution')\n",
    "\n",
    "    #Normalize with log (x+1).  Log of skewed feature: log e(feature+1)=normFeat\n",
    "    #Exponential equation to undo normpr: e^normFeat-1=feature\n",
    "    log_feat=np.log(df[bad_feature]+1)\n",
    "        \n",
    "    #Plots after normalization\n",
    "    fig, (ax1,ax2) = plt.subplots(1,2,figsize=(8,3),constrained_layout=True)\n",
    "    sns.distplot(log_feat, color='g', fit=norm, ax=ax1)\n",
    "    ax1.set_title(bad_feature+' Histogram - Normal Distribution')\n",
    "    res=stats.probplot(log_feat, dist='norm', plot=ax2)\n",
    "    ax2.set_title('Fit to Normal Distribution')\n",
    "    return log_feat\n",
    "\n",
    "vehicle['LN_Price'] = normalize_feature(df=vehicle, bad_feature='Price')\n",
    "print('**** No LightGBM improvement from LN transform of price.  Linear models improve. ****')"
   ]
  },
  {
   "cell_type": "code",
   "execution_count": 43,
   "metadata": {},
   "outputs": [
    {
     "name": "stdout",
     "output_type": "stream",
     "text": [
      " average: 17334.8 \n",
      " lower_lim: -9991.2 \n",
      " upper_lim: 44660.8\n"
     ]
    },
    {
     "data": {
      "text/plain": [
       "[[258, 'Price', 65000.0], [8377, 'Price', 45000.0]]"
      ]
     },
     "metadata": {},
     "output_type": "display_data"
    }
   ],
   "source": [
    "#Flag outliers at designated year.\n",
    "def flag_outliers(df, filt_col, filt_col_val, col_to_flag):\n",
    "    ''' Flag anomolies for target col_to_flag and filt_col_val.'''\n",
    "    filtSer=df.loc[df[filt_col] == filt_col_val, col_to_flag].copy()\n",
    "    three_std = 3 * filtSer.std()\n",
    "    avg = filtSer.mean()\n",
    "    lower_lim = avg - three_std\n",
    "    upper_lim = avg + three_std\n",
    "    print(' average:', round(avg,1), '\\n', 'lower_lim:', round(lower_lim,1), '\\n', 'upper_lim:', round(upper_lim,1))\n",
    "    \n",
    "    outside_lim=[]\n",
    "    for idx in filtSer.index:      \n",
    "        price = filtSer.loc[idx]        \n",
    "        if price > upper_lim or price < lower_lim:\n",
    "            outside_lim.append([idx, col_to_flag, price])     \n",
    "    return outside_lim\n",
    "\n",
    "outs_lim = flag_outliers(df=vehicle, filt_col='Year', filt_col_val=2014, col_to_flag='Price')        \n",
    "display(outs_lim)"
   ]
  },
  {
   "cell_type": "code",
   "execution_count": 44,
   "metadata": {},
   "outputs": [
    {
     "data": {
      "image/png": "[encoded data removed]",
      "text/plain": [
       "<Figure size 1040.12x720 with 1 Axes>"
      ]
     },
     "metadata": {
      "needs_background": "light"
     },
     "output_type": "display_data"
    }
   ],
   "source": [
    "#Catplot by Year, Price, and Model\n",
    "sns.catplot(x='Year',y='Price',hue='Model', data=vehicle, height=10, aspect=1.3, s=7)  #s changes marker size\n",
    "plt.show()"
   ]
  },
  {
   "cell_type": "code",
   "execution_count": 45,
   "metadata": {},
   "outputs": [
    {
     "data": {
      "text/html": [
       "<div>\n",
       "<style scoped>\n",
       "    .dataframe tbody tr th:only-of-type {\n",
       "        vertical-align: middle;\n",
       "    }\n",
       "\n",
       "    .dataframe tbody tr th {\n",
       "        vertical-align: top;\n",
       "    }\n",
       "\n",
       "    .dataframe thead th {\n",
       "        text-align: right;\n",
       "    }\n",
       "</style>\n",
       "<table border=\"1\" class=\"dataframe\">\n",
       "  <thead>\n",
       "    <tr style=\"text-align: right;\">\n",
       "      <th></th>\n",
       "      <th>URL_Vehicle</th>\n",
       "      <th>Title</th>\n",
       "      <th>Location</th>\n",
       "      <th>Year</th>\n",
       "      <th>Year_in_Title</th>\n",
       "      <th>Odometer</th>\n",
       "      <th>RawMake</th>\n",
       "      <th>Make</th>\n",
       "      <th>Model</th>\n",
       "      <th>Trim</th>\n",
       "      <th>Seller</th>\n",
       "      <th>Price</th>\n",
       "      <th>SubLoc</th>\n",
       "      <th>Body</th>\n",
       "      <th>AttribDictionary</th>\n",
       "      <th>ImageDictionary</th>\n",
       "      <th>VehicleID</th>\n",
       "      <th>VIN</th>\n",
       "      <th>TrimAlternate</th>\n",
       "      <th>DownFlag</th>\n",
       "      <th>LN_Price</th>\n",
       "    </tr>\n",
       "  </thead>\n",
       "  <tbody>\n",
       "    <tr>\n",
       "      <th>1</th>\n",
       "      <td>https://austin.craigslist.org/cto/d/red-rock-2...</td>\n",
       "      <td>2006 Ford Focus SE</td>\n",
       "      <td>austin</td>\n",
       "      <td>2006</td>\n",
       "      <td>NaN</td>\n",
       "      <td>181000.0</td>\n",
       "      <td>2006 ford focus se</td>\n",
       "      <td>ford</td>\n",
       "      <td>focus</td>\n",
       "      <td>se</td>\n",
       "      <td>owner</td>\n",
       "      <td>3000.0</td>\n",
       "      <td>(Cedar Creek)</td>\n",
       "      <td>\\n        ,\\n2006 Ford Focus in great mechanic...</td>\n",
       "      <td>{'0': '&lt;span&gt;&lt;b&gt;2006 Ford Focus SE&lt;/b&gt;&lt;/span&gt;'...</td>\n",
       "      <td>{'0': 'https://images.craigslist.org/00n0n_dXT...</td>\n",
       "      <td>7022331083</td>\n",
       "      <td>None2</td>\n",
       "      <td>se</td>\n",
       "      <td>None</td>\n",
       "      <td>8.006701</td>\n",
       "    </tr>\n",
       "    <tr>\n",
       "      <th>2</th>\n",
       "      <td>https://austin.craigslist.org/cto/d/marble-fal...</td>\n",
       "      <td>‘04 FORD F450 SERVICE TRUCK</td>\n",
       "      <td>austin</td>\n",
       "      <td>2004</td>\n",
       "      <td>NaN</td>\n",
       "      <td>100000.0</td>\n",
       "      <td>2004 ford f450</td>\n",
       "      <td>ford</td>\n",
       "      <td>f-450</td>\n",
       "      <td>service</td>\n",
       "      <td>owner</td>\n",
       "      <td>8950.0</td>\n",
       "      <td>(Marble Falls)</td>\n",
       "      <td>\\n        ,\\nThis is a really nice dependable ...</td>\n",
       "      <td>{'0': '&lt;span&gt;&lt;b&gt;2004 FORD F450&lt;/b&gt;&lt;/span&gt;', '1...</td>\n",
       "      <td>{'0': 'https://images.craigslist.org/01717_30H...</td>\n",
       "      <td>7022347414</td>\n",
       "      <td>None3</td>\n",
       "      <td>service</td>\n",
       "      <td>None</td>\n",
       "      <td>9.099521</td>\n",
       "    </tr>\n",
       "  </tbody>\n",
       "</table>\n",
       "</div>"
      ],
      "text/plain": [
       "                                         URL_Vehicle  \\\n",
       "1  https://austin.craigslist.org/cto/d/red-rock-2...   \n",
       "2  https://austin.craigslist.org/cto/d/marble-fal...   \n",
       "\n",
       "                         Title Location  Year  Year_in_Title  Odometer  \\\n",
       "1           2006 Ford Focus SE   austin  2006            NaN  181000.0   \n",
       "2  ‘04 FORD F450 SERVICE TRUCK   austin  2004            NaN  100000.0   \n",
       "\n",
       "              RawMake  Make  Model     Trim Seller   Price          SubLoc  \\\n",
       "1  2006 ford focus se  ford  focus       se  owner  3000.0   (Cedar Creek)   \n",
       "2      2004 ford f450  ford  f-450  service  owner  8950.0  (Marble Falls)   \n",
       "\n",
       "                                                Body  \\\n",
       "1  \\n        ,\\n2006 Ford Focus in great mechanic...   \n",
       "2  \\n        ,\\nThis is a really nice dependable ...   \n",
       "\n",
       "                                    AttribDictionary  \\\n",
       "1  {'0': '<span><b>2006 Ford Focus SE</b></span>'...   \n",
       "2  {'0': '<span><b>2004 FORD F450</b></span>', '1...   \n",
       "\n",
       "                                     ImageDictionary   VehicleID    VIN  \\\n",
       "1  {'0': 'https://images.craigslist.org/00n0n_dXT...  7022331083  None2   \n",
       "2  {'0': 'https://images.craigslist.org/01717_30H...  7022347414  None3   \n",
       "\n",
       "  TrimAlternate DownFlag  LN_Price  \n",
       "1            se     None  8.006701  \n",
       "2       service     None  9.099521  "
      ]
     },
     "execution_count": 45,
     "metadata": {},
     "output_type": "execute_result"
    }
   ],
   "source": [
    "vehicle.head(2)"
   ]
  },
  {
   "cell_type": "code",
   "execution_count": null,
   "metadata": {},
   "outputs": [],
   "source": []
  },
  {
   "cell_type": "code",
   "execution_count": 46,
   "metadata": {},
   "outputs": [
    {
     "name": "stdout",
     "output_type": "stream",
     "text": [
      "('Model', 'Trim')\n",
      "('Model', 'Seller')\n",
      "('Trim', 'Seller')\n"
     ]
    }
   ],
   "source": [
    "#Engineer vehicle features Part 1.  Get category feature pairs.\n",
    "\n",
    "#Temporarily convert Year to category/str.  Adding Year improves regression MAE by 20% but only 0.4% for lgb.\n",
    "#vehicle['Year'] = vehicle['Year'].apply(str)\n",
    "\n",
    "cat_feat=['Model', 'Trim', 'Seller']\n",
    "pairs = list(itertools.combinations(cat_feat,2))\n",
    "for tup in pairs:\n",
    "    print(tup)\n",
    "    vehicle[tup[0] + '_' + tup[1]] = vehicle[tup[0]] + '_' + vehicle[tup[1]]\n",
    "        \n",
    "#Convert Year back to integer\n",
    "#vehicle['Year'] = vehicle['Year'].astype('float').astype('int64')"
   ]
  },
  {
   "cell_type": "markdown",
   "metadata": {},
   "source": [
    "### Drop rare Models and Trims (Lowers Dimensionality)"
   ]
  },
  {
   "cell_type": "code",
   "execution_count": 47,
   "metadata": {
    "scrolled": true
   },
   "outputs": [
    {
     "name": "stdout",
     "output_type": "stream",
     "text": [
      "Drop 22 Models that are \"None\": Int64Index([  211,   805,  1023,  1614,  2567,  3182,  3373,  3586,  4606,\n",
      "             5385,  5783,  6031,  7346,  7925,  8006,  9032,  9505,  9705,\n",
      "             9863,  9882, 10091, 10237],\n",
      "           dtype='int64')\n",
      "Drop 477 Trims that are \"None\": Int64Index([   52,    73,    74,    90,   135,   138,   139,   148,   183,\n",
      "              219,\n",
      "            ...\n",
      "            10073, 10102, 10207, 10288, 10349, 10382, 10398, 10463, 10516,\n",
      "            10531],\n",
      "           dtype='int64', length=477)\n"
     ]
    }
   ],
   "source": [
    "#Remove vehicle 'Model' is None.\n",
    "filt = (vehicle['Model'] == 'None')\n",
    "drop_indices = vehicle[filt].index\n",
    "print(f'Drop {len(drop_indices)} Models that are \"None\":', drop_indices)\n",
    "vehicle = vehicle.drop(index = drop_indices, errors = 'ignore')\n",
    "\n",
    "#Remove vehicle 'Trim' is None.\n",
    "filt2 = (vehicle['Trim'] == 'None')\n",
    "drop_indices2 = vehicle[filt2].index\n",
    "print(f'Drop {len(drop_indices2)} Trims that are \"None\":', drop_indices2)\n",
    "vehicle = vehicle.drop(index = drop_indices2, errors = 'ignore')"
   ]
  },
  {
   "cell_type": "code",
   "execution_count": 48,
   "metadata": {},
   "outputs": [
    {
     "name": "stdout",
     "output_type": "stream",
     "text": [
      "\n",
      "Dropping trim with less than 30 examples: ['taurus_sel', 'edge_sel', 'crown_victoria', 'expedition_el', 'f-150_crew', 'f-250_4x4', 'f-150_raptor', 'fusion_hybrid', 'focus_titanium', 'f-450_super', 'f-350_lariat', 'f-250_xl', 'escape_xlt', 'f-150_stx', 'explorer_eddie', 'focus_sel', 'f-150_tx', 'taurus_se', 'f-250_crew', 'escape_fwd', 'mustang_premium', 'ranger_xlt', 'f-350_crew', 'fusion_sel', 'f-350_4x4', 'focus_st', 'escape_s', 'edge_limited', 'escape_limited', 'excursion_limited', 'f-350_diesel', 'f-350_dually', 'fusion_energi', 'f-150_harley', 'mustang_shelby', 'f-250_sd', 'f-250_platinum', 'f550_4x4', 'e350_box', 'e250_cargo', 'expedition_king', 'econoline_cargo', 'escape_xls', 'f-550_f550', 'f-350_xl', 'taurus_limited', 'escape_sel', 'explorer_fwd', 'five_hundred', 'mustang_tx', 'f-350_f350', 'transit_passenger', 'f-150_super cab', 'f-350_sd', 'f-150_extended', 'c-max_hybrid', 'mustang_v6', 'f-550_super', 'focus_hatchback', 'flex_sel', 'ranger_supercab', 'f-350_srw', 'f-250_turbo', 'f-150_se', 'f-150_super crew', 'excursion_eddie', 'f-350_xlt', 'ranger_edge', 'flex_limited', 'transit_t', 'focus_super', 'f-350_platinum', 'explorer_xls', 'edge_titanium', 'fiesta_s', 'e350_16', 'e250_econoline', 'f-150_limited', 'fusion_s', 'mustang_se', 'f-150_sport', 'fusion_tx', 'f-450_f450', 'ranger_lariat', 'f-450_crew', 'mustang_super', 'escape_hybrid', 'f550_flatbed', 'econoline_e350', 'f-450_super duty', 'ranger_xl', 'f550_super', 'escape_ext', 'explorer_base', 'edge_sport', 'e-350_super', 'f-350_king', 'mustang_cobra', 'fusion_sport', 'excursion_diesel', 'fiesta_st', 'e350_van', 'e350_cargo', 'f-150_svt', 'f-250_fx4', 'f-150_ext', 'ranger_super', 'f550_diesel', 'f-350_drw', 'e-250_cargo', 'focus_rs', 'focus_fwd', 'f-450_4x4', 'f-450_bucket', 'f-150_box', 'econoline_e150', 'f-250_utility', 'excursion_xlt', 'f-150_lightning', 'econoline_super duty', 'mustang_mach', 'edge_se', 'e150_cargo', 'e-350_e-350', 'thunderbird_convertible', 'f-450_chassis', 'e350_passenger', 'f-250_supercab', 'f-350_utility', 'fusion_fwd', 'expedition_max', 'taurus_x', 'f-150_crewcab', 'e450_shuttle', 'focus_zx4', 'expedition_4x4', 'e450_bus', 'e-450_e-450', 'econoline_wagon', 'f-250sd_lariat', 'explorer_passenger', 'f-350_fx4', 'f-150_st', 'f-150_flareside', 'f-350sd_lariat', 'f-250sd_xlt', 'transit-350_passenger', 'transit_wagon', 'f-250_extended', 'e-150_cargo', 'f650_box', 'mustang_boss', 'e450_box', 'f-550_xlt', 'shelby_gt500', 'f-550_bucket', 'f-250_se', 'fusion_service', 'f-150_regular', 'f-250_supercrew', 'c-max_energi', 'e350_shuttle', 'econoline_e250', 'freestar_sel', 'e150_passenger', 'fusion_super', 'f-150_passenger', 'f550_regular', 'e-150_e-150', 'transit_15', 'fiesta_fwd', 'f550_crew', 'e450_passenger', 'f-250_f250', 'fiesta_ses', 'e350_drw', 'f650_flatbed', 'focus_s', 'explorer_tx', 'f-450_service', 'e150_econoline', 'shelby_gt350', 'transit_250', 'f-150_service', 'f-250_regular', 'f-550_service', 'thunderbird_premium', 'econoline_e-250', 'cmax_hybrid', 'f550_super duty', 'econoline_passenger', 'f-150_premium', 'transit_t250', 'transit_350', 'taurus_fwd', 'econoline_super', 'f-450_lariat', 'f-250_service', 'e350_cutaway', 'e-450_cutaway', 'f550_xlt', 'f550_bucket', 'escape_sports', 'mustang_svt', 'fiesta_titanium', 'transit_150', 'f-350_service', 'f-750_bucket', 'f750_bucket', 'windstar_lx', 'explorer_st', 'f-350_7', 'transit_xlt', 'transit_commercial', 'e350_utility', 'escape_cargo', 'f-250_superduty', 'econoline_e', 'transit-350_xl', 'taurus_passenger', 'f-150_heritage', 'f-150_ecoboost', 'f-150_turbo', 'mustang_st', 'escape_super', 'starcraft_e350', 'raptor_raptor', 'f-550_ext', 'expedition_xl', 'fusion_bucket', 'focus_electric', 'f750_w', 'taurus_edge', 'e-series_cargo', 'f750_regular', 't350_drw', 'fusion_access', 'freestyle_limited', 'escape_sport', 'e-series_wagon', 'ranger_tremor', 'f-250sd_xl', 'e150_e-150', 'f-450_sd', 'transit_van', 'f550_tx', 'explorer_super', 'f-450_dually', 'expedition_ltd', 'f-350_chassis', 'f-150_eddie', 'f-350_ext', 'e350_super', 'mustang_bullitt', 'flex_se', 'f-550_crew', 'lariat_lariat', 'excursion_4x4', 'f-550_chassis', 'f750_box', 'expedition_super', 'e-250_e-250', 'escape_access', 'f-450_diesel', 'fusion_platinum', 'escape_tx', 'taurus_turbo', 'f-350sd_king', 'f-150_4', 'freestyle_sel', 'ranger_extended', 'ecosport_se', 'expedition_lariat', 'e250_e-250', 'expedition_tx', 'f-150_natural', 'f-650_dump', 'f-350_súper', 'f-350_e-350', 'explorer_access', 'f-150_access', 'f650_rollback', 'mustang_lightning', 'f-750_super', 'f-450_dump', 'mustang_eddie', 'rander_xl', 'flex_sport', 'mustang_base', 'f-150_base', 'f-650_f650', 'f-350_extended', 'f-250_crewcab', 'e250_super', 'f350sd_utility', 'e-350_chassis', 'edge_4dr', 'shelby_f150', 'f-250_outlaw', 'f-550_passenger', 'mustang_sh', 'explorer_suv', 'escape_connect', 'f-550_xl', 'f-250_ext', 'f-250_7', 'e350_extended', 'expedition_se', 'focus_service', 'mustang,_mach', 'transit_bucket', 'ranger_commercial', 'f-250_dump', 'fiesta_passenger', 'f-450_regular', 'f-350_cargo', 'supper_duty', 'f-750_diesel', 'police_interceptor', 'f-150_sxt', 'f-250sd_platinum', 'f-650_super', 'sport_track', '350_diesel', 'expedition_service', 'f-350_f', 'f-150_utility', 'f-59_super', 'f650_super duty', 'f-350_flatbed', 'e450_cube', 'e350_passanger', 'e250_service', 'excursion_service', 'f-350_tx', 'e-450_box', 'explorer_ltd', 'excursion_7', 'e450_diesel', 'f-250_super cab', 'focus_2d', 'transit_natural', 'mustang_service', 'e250_hightop', 'f550_dump', 'mustang_turbo', 'f-350_se', 'explorer_x', 'focus_fx5', 'econoline_e-150', 'f-350_bucket', 'mustang_sports', 'mustang_passenger', 'taurus_natural', 'expedition_platinum', 'e-350sd_xl', 'focus_ses', 'shelby_gt', 'f-350_powerstroke', 'ranger_tx', 'explorer_turbo', 'cargo_van', 'expedition_xls', 'transit-250_cargo', 'xlt_explorer', 'f-450_super cab', 'e-350_16', 'f-150_pickup', 'f550_turbo', 'explorer_utility', 'f-750_service', 'expedicion_xlt', 'f-150_ltz', 'escape_tit', 'transit-250_access', 'transit-350_xlt', 'ecoline_cargo', 'f-450_xlt', 'f-250_kingranch4x4crewdiesel', 'ranger_reg', 'f-350_dump', 'escape_passenger', 'f-350_diesels', 'fiesta_tx', 'f-450_deisel', 'f-150crewcab_4wd', 't-350_cargo', 'e-350_shuttle', 'f-150_rapto', 'e250_passenger', 'f-550_super duty', 'windstar_sel', 'expeition_el', 'f-150_cargo', 'f25sd_super duty', 'f-650_super duty', 'lcf_box', 'dually_lariat', 'fusion_connect', 'taurus_ses', 'e-350_superduty', 'f750_diesel', 'f-350_sport', 'windstar_cargo', 'econo_com', 'f-350_turbo', 'f-350_harley', 'focus_ecoboost', 'explorer_bucket', 'thunderbird_deluxe', 'f-250_f', 'f-250_powerstroke', 'escape_premium', '2008_super', 'ranger_super cab', 'e150_xlt', 'lincoln_ls', '500_super', 'f-650_xlt', '250_xl', 'f-350_passenger', 'f550_6', 'transit-150_cargo', 'e350_dually', 'focus_ext', 'e350_diesel', 'taurus_tx', 'raptor_pickup', 'e350_hightop', 'f-250_e-250', 'f-250sd_king', 'f-750_f750', 'econoline_commercial', 'edge_super', 'e-350_super duty', 'focus_2007', 'econoline_e-450', 'focus_sport', 'escort_se', 'windstar_xl', 'focus_lx', 'f550_lariat', 'e1504x4_xlt', 'windstar_super', 'ranger_se', '5500_v8', 'excursion_passenger', 'ecosport_access', 'e150_club', 'regency_e250', 'f-150_4wd', 'taurus_lx', 'sport_trac', 'eco_cargo', 'fiesta_sel', 'escapé_titanium', '350_tri', 'explorer_sports', 'f-350_superduty', 'freestar_passenger', '250_se', 'f-450_xl', 'windstar_van', 'f-650_super cab', 'e450_e350', 'ranger_sports', 'f-450_drw', 'focus_base', 'econoline_cutaway', 'explorer_platinum', 'f-250_gasolina', 'fiesta_super', 'f-250_larat', 'focus_zx3', 'transit_t-350', 'explorer_extended', 'focus_passenger', 'explorer_4x4', 'f-550_flatbed', 'crew_super', 'f650_wrecker', 'escape_wagon', 'mustang_saleen', 'e450_cargo', 'f-550_utility', 'freestar_wagon', 'fusion_limited', 'ranger_supercrew', 'f-450_utility', 'f-350_crewcab', 'econoline_e450', 'flex_utility']\n",
      "\n",
      "Over 30 threshold trims:\n",
      " f-150_xlt              356\n",
      "f-250_super            281\n",
      "mustang_gt             218\n",
      "f-150_supercrew        211\n",
      "focus_se               179\n",
      "f-350_super            163\n",
      "f-150_lariat           156\n",
      "f-250_super duty       145\n",
      "fusion_se              133\n",
      "explorer_xlt           122\n",
      "edge_edge              121\n",
      "escape_se               95\n",
      "f-150_xl                90\n",
      "f-250_lariat            82\n",
      "fiesta_se               68\n",
      "expedition_xlt          67\n",
      "explorer_limited        62\n",
      "f-150_fx4               62\n",
      "mustang_ecoboost        60\n",
      "f-350_super duty        57\n",
      "f-150_platinum          56\n",
      "transit_connect         54\n",
      "explorer_sport          50\n",
      "f-150_4x4               50\n",
      "mustang_convertible     45\n",
      "f-150_king              45\n",
      "mustang_coupe           44\n",
      "expedition_eddie        41\n",
      "f-150_supercab          41\n",
      "transit_cargo           35\n",
      "f-250_king              35\n",
      "f-250_xlt               35\n",
      "expedition_limited      35\n",
      "f-150_super             35\n",
      "fusion_titanium         33\n",
      "f-150_fx2               33\n",
      "f-250_diesel            32\n",
      "escape_titanium         31\n",
      "Name: Model_Trim, dtype: int64\n"
     ]
    }
   ],
   "source": [
    "#Remove vehicle 'Model_Trim' counts under threshold.\n",
    "thresh=30\n",
    "trim_counts=vehicle['Model_Trim'].value_counts()             #get freq\n",
    "print(f'\\nDropping trim with less than {thresh} examples:', list(trim_counts[trim_counts < thresh].index))\n",
    "trim_over_thresh = trim_counts[trim_counts >= thresh].index  #get thresh+ Model_Trim names\n",
    "vehicle= vehicle[vehicle['Model_Trim'].isin(trim_over_thresh)] #boolean filter for the thresh+ Model_Trim names\n",
    "print(f'\\nOver {thresh} threshold trims:\\n', vehicle['Model_Trim'].value_counts())"
   ]
  },
  {
   "cell_type": "code",
   "execution_count": 49,
   "metadata": {},
   "outputs": [
    {
     "name": "stdout",
     "output_type": "stream",
     "text": [
      "vehicle shape: (3458, 24)\n"
     ]
    },
    {
     "data": {
      "text/html": [
       "<div>\n",
       "<style scoped>\n",
       "    .dataframe tbody tr th:only-of-type {\n",
       "        vertical-align: middle;\n",
       "    }\n",
       "\n",
       "    .dataframe tbody tr th {\n",
       "        vertical-align: top;\n",
       "    }\n",
       "\n",
       "    .dataframe thead th {\n",
       "        text-align: right;\n",
       "    }\n",
       "</style>\n",
       "<table border=\"1\" class=\"dataframe\">\n",
       "  <thead>\n",
       "    <tr style=\"text-align: right;\">\n",
       "      <th></th>\n",
       "      <th>URL_Vehicle</th>\n",
       "      <th>Title</th>\n",
       "      <th>Location</th>\n",
       "      <th>Year</th>\n",
       "      <th>Year_in_Title</th>\n",
       "      <th>Odometer</th>\n",
       "      <th>RawMake</th>\n",
       "      <th>Make</th>\n",
       "      <th>Model</th>\n",
       "      <th>Trim</th>\n",
       "      <th>Seller</th>\n",
       "      <th>Price</th>\n",
       "      <th>SubLoc</th>\n",
       "      <th>Body</th>\n",
       "      <th>AttribDictionary</th>\n",
       "      <th>ImageDictionary</th>\n",
       "      <th>VehicleID</th>\n",
       "      <th>VIN</th>\n",
       "      <th>TrimAlternate</th>\n",
       "      <th>DownFlag</th>\n",
       "      <th>LN_Price</th>\n",
       "      <th>Model_Trim</th>\n",
       "      <th>Model_Seller</th>\n",
       "      <th>Trim_Seller</th>\n",
       "    </tr>\n",
       "  </thead>\n",
       "  <tbody>\n",
       "    <tr>\n",
       "      <th>1</th>\n",
       "      <td>https://austin.craigslist.org/cto/d/red-rock-2...</td>\n",
       "      <td>2006 Ford Focus SE</td>\n",
       "      <td>austin</td>\n",
       "      <td>2006</td>\n",
       "      <td>NaN</td>\n",
       "      <td>181000.0</td>\n",
       "      <td>2006 ford focus se</td>\n",
       "      <td>ford</td>\n",
       "      <td>focus</td>\n",
       "      <td>se</td>\n",
       "      <td>owner</td>\n",
       "      <td>3000.0</td>\n",
       "      <td>(Cedar Creek)</td>\n",
       "      <td>\\n        ,\\n2006 Ford Focus in great mechanic...</td>\n",
       "      <td>{'0': '&lt;span&gt;&lt;b&gt;2006 Ford Focus SE&lt;/b&gt;&lt;/span&gt;'...</td>\n",
       "      <td>{'0': 'https://images.craigslist.org/00n0n_dXT...</td>\n",
       "      <td>7022331083</td>\n",
       "      <td>None2</td>\n",
       "      <td>se</td>\n",
       "      <td>None</td>\n",
       "      <td>8.006701</td>\n",
       "      <td>focus_se</td>\n",
       "      <td>focus_owner</td>\n",
       "      <td>se_owner</td>\n",
       "    </tr>\n",
       "  </tbody>\n",
       "</table>\n",
       "</div>"
      ],
      "text/plain": [
       "                                         URL_Vehicle               Title  \\\n",
       "1  https://austin.craigslist.org/cto/d/red-rock-2...  2006 Ford Focus SE   \n",
       "\n",
       "  Location  Year  Year_in_Title  Odometer             RawMake  Make  Model  \\\n",
       "1   austin  2006            NaN  181000.0  2006 ford focus se  ford  focus   \n",
       "\n",
       "  Trim Seller   Price         SubLoc  \\\n",
       "1   se  owner  3000.0  (Cedar Creek)   \n",
       "\n",
       "                                                Body  \\\n",
       "1  \\n        ,\\n2006 Ford Focus in great mechanic...   \n",
       "\n",
       "                                    AttribDictionary  \\\n",
       "1  {'0': '<span><b>2006 Ford Focus SE</b></span>'...   \n",
       "\n",
       "                                     ImageDictionary   VehicleID    VIN  \\\n",
       "1  {'0': 'https://images.craigslist.org/00n0n_dXT...  7022331083  None2   \n",
       "\n",
       "  TrimAlternate DownFlag  LN_Price Model_Trim Model_Seller Trim_Seller  \n",
       "1            se     None  8.006701   focus_se  focus_owner    se_owner  "
      ]
     },
     "execution_count": 49,
     "metadata": {},
     "output_type": "execute_result"
    }
   ],
   "source": [
    "print('vehicle shape:', vehicle.shape)\n",
    "vehicle.head(1)"
   ]
  },
  {
   "cell_type": "code",
   "execution_count": null,
   "metadata": {},
   "outputs": [],
   "source": []
  },
  {
   "cell_type": "markdown",
   "metadata": {},
   "source": [
    "## Get train and test, stratified by Model-Trim."
   ]
  },
  {
   "cell_type": "code",
   "execution_count": 50,
   "metadata": {},
   "outputs": [],
   "source": [
    "#Build train and test from vehicle.  Stratify by Model_Trim.\n",
    "from sklearn.model_selection import StratifiedShuffleSplit\n",
    "sss = StratifiedShuffleSplit(n_splits=1, test_size=0.1, random_state=22)\n",
    "for train_index, test_index in sss.split(vehicle, vehicle['Model_Trim']):\n",
    "    train = vehicle.iloc[train_index]\n",
    "    test = vehicle.iloc[test_index]"
   ]
  },
  {
   "cell_type": "code",
   "execution_count": 51,
   "metadata": {},
   "outputs": [
    {
     "data": {
      "text/html": [
       "<div>\n",
       "<style scoped>\n",
       "    .dataframe tbody tr th:only-of-type {\n",
       "        vertical-align: middle;\n",
       "    }\n",
       "\n",
       "    .dataframe tbody tr th {\n",
       "        vertical-align: top;\n",
       "    }\n",
       "\n",
       "    .dataframe thead th {\n",
       "        text-align: right;\n",
       "    }\n",
       "</style>\n",
       "<table border=\"1\" class=\"dataframe\">\n",
       "  <thead>\n",
       "    <tr style=\"text-align: right;\">\n",
       "      <th></th>\n",
       "      <th>URL_Vehicle</th>\n",
       "      <th>Title</th>\n",
       "      <th>Location</th>\n",
       "      <th>Year</th>\n",
       "      <th>Year_in_Title</th>\n",
       "      <th>Odometer</th>\n",
       "      <th>RawMake</th>\n",
       "      <th>Make</th>\n",
       "      <th>Model</th>\n",
       "      <th>Trim</th>\n",
       "      <th>Seller</th>\n",
       "      <th>Price</th>\n",
       "      <th>SubLoc</th>\n",
       "      <th>Body</th>\n",
       "      <th>AttribDictionary</th>\n",
       "      <th>ImageDictionary</th>\n",
       "      <th>VehicleID</th>\n",
       "      <th>VIN</th>\n",
       "      <th>TrimAlternate</th>\n",
       "      <th>DownFlag</th>\n",
       "      <th>LN_Price</th>\n",
       "      <th>Model_Trim</th>\n",
       "      <th>Model_Seller</th>\n",
       "      <th>Trim_Seller</th>\n",
       "    </tr>\n",
       "  </thead>\n",
       "  <tbody>\n",
       "    <tr>\n",
       "      <th>5764</th>\n",
       "      <td>https://houston.craigslist.org/ctd/d/2016-ford...</td>\n",
       "      <td>2016 Ford F-150 XLT Pickup Truck</td>\n",
       "      <td>houston</td>\n",
       "      <td>2016</td>\n",
       "      <td>NaN</td>\n",
       "      <td>55843.0</td>\n",
       "      <td>2016 ford f-150</td>\n",
       "      <td>ford</td>\n",
       "      <td>f-150</td>\n",
       "      <td>xlt</td>\n",
       "      <td>dealer</td>\n",
       "      <td>25250.0</td>\n",
       "      <td>(Texas Direct Auto - Visit our Store at Stafford)</td>\n",
       "      <td>\\n        ,\\n,\\nCall us anytime at (832) 353-2...</td>\n",
       "      <td>{'0': '&lt;span&gt;&lt;b&gt;2016 Ford F-150&lt;/b&gt;&lt;/span&gt;', '...</td>\n",
       "      <td>{'0': 'https://images.craigslist.org/00r0r_iAq...</td>\n",
       "      <td>7016147520</td>\n",
       "      <td>None2447</td>\n",
       "      <td>xlt</td>\n",
       "      <td>None</td>\n",
       "      <td>10.136621</td>\n",
       "      <td>f-150_xlt</td>\n",
       "      <td>f-150_dealer</td>\n",
       "      <td>xlt_dealer</td>\n",
       "    </tr>\n",
       "    <tr>\n",
       "      <th>3229</th>\n",
       "      <td>https://dallas.craigslist.org/ndf/ctd/d/frisco...</td>\n",
       "      <td>2016 Ford Escape SE SKU:GUC41966 SUV</td>\n",
       "      <td>dallas</td>\n",
       "      <td>2016</td>\n",
       "      <td>NaN</td>\n",
       "      <td>47114.0</td>\n",
       "      <td>2016 ford escape</td>\n",
       "      <td>ford</td>\n",
       "      <td>escape</td>\n",
       "      <td>se</td>\n",
       "      <td>dealer</td>\n",
       "      <td>13989.0</td>\n",
       "      <td>(Please call *972-465-9371* to Confirm Availab...</td>\n",
       "      <td>\\n        ,\\n, You can immediately confirm ava...</td>\n",
       "      <td>{'0': '&lt;span&gt;&lt;b&gt;2016 Ford Escape&lt;/b&gt;&lt;/span&gt;', ...</td>\n",
       "      <td>{'0': 'https://images.craigslist.org/00H0H_69r...</td>\n",
       "      <td>7016850458</td>\n",
       "      <td>None1277</td>\n",
       "      <td>se</td>\n",
       "      <td>down</td>\n",
       "      <td>9.546098</td>\n",
       "      <td>escape_se</td>\n",
       "      <td>escape_dealer</td>\n",
       "      <td>se_dealer</td>\n",
       "    </tr>\n",
       "  </tbody>\n",
       "</table>\n",
       "</div>"
      ],
      "text/plain": [
       "                                            URL_Vehicle  \\\n",
       "5764  https://houston.craigslist.org/ctd/d/2016-ford...   \n",
       "3229  https://dallas.craigslist.org/ndf/ctd/d/frisco...   \n",
       "\n",
       "                                     Title Location  Year  Year_in_Title  \\\n",
       "5764      2016 Ford F-150 XLT Pickup Truck  houston  2016            NaN   \n",
       "3229  2016 Ford Escape SE SKU:GUC41966 SUV   dallas  2016            NaN   \n",
       "\n",
       "      Odometer           RawMake  Make   Model Trim  Seller    Price  \\\n",
       "5764   55843.0   2016 ford f-150  ford   f-150  xlt  dealer  25250.0   \n",
       "3229   47114.0  2016 ford escape  ford  escape   se  dealer  13989.0   \n",
       "\n",
       "                                                 SubLoc  \\\n",
       "5764  (Texas Direct Auto - Visit our Store at Stafford)   \n",
       "3229  (Please call *972-465-9371* to Confirm Availab...   \n",
       "\n",
       "                                                   Body  \\\n",
       "5764  \\n        ,\\n,\\nCall us anytime at (832) 353-2...   \n",
       "3229  \\n        ,\\n, You can immediately confirm ava...   \n",
       "\n",
       "                                       AttribDictionary  \\\n",
       "5764  {'0': '<span><b>2016 Ford F-150</b></span>', '...   \n",
       "3229  {'0': '<span><b>2016 Ford Escape</b></span>', ...   \n",
       "\n",
       "                                        ImageDictionary   VehicleID       VIN  \\\n",
       "5764  {'0': 'https://images.craigslist.org/00r0r_iAq...  7016147520  None2447   \n",
       "3229  {'0': 'https://images.craigslist.org/00H0H_69r...  7016850458  None1277   \n",
       "\n",
       "     TrimAlternate DownFlag   LN_Price Model_Trim   Model_Seller Trim_Seller  \n",
       "5764           xlt     None  10.136621  f-150_xlt   f-150_dealer  xlt_dealer  \n",
       "3229            se     down   9.546098  escape_se  escape_dealer   se_dealer  "
      ]
     },
     "execution_count": 51,
     "metadata": {},
     "output_type": "execute_result"
    }
   ],
   "source": [
    "train.head(2)"
   ]
  },
  {
   "cell_type": "code",
   "execution_count": 52,
   "metadata": {},
   "outputs": [],
   "source": [
    "#DROP IRRELEVANT COLUMNS.\n",
    "irrel_cols = ['URL_Vehicle', 'Title', 'Year_in_Title', 'RawMake', 'SubLoc', 'Body', 'AttribDictionary', \n",
    "                    'ImageDictionary', 'VehicleID', 'VIN', 'TrimAlternate', 'DownFlag', 'LN_Price']\n",
    "\n",
    "train = train.drop(irrel_cols, axis='columns', errors='ignore')\n",
    "test = test.drop(irrel_cols, axis='columns', errors='ignore')"
   ]
  },
  {
   "cell_type": "code",
   "execution_count": 53,
   "metadata": {
    "scrolled": true
   },
   "outputs": [
    {
     "name": "stdout",
     "output_type": "stream",
     "text": [
      "Made dictionary of median Odometer value by Year-Model. Fallback by Year.\n",
      "\n",
      "Used Year fallback for Year-Model: (2002, 'focus'). Train count: 1. Test count: 0\n"
     ]
    }
   ],
   "source": [
    "def impute_nan_by_categ(train_df, test_df, cat_col1, cat_col2, stat_col, stat_calc = 'median'):\n",
    "    ''' Using train, get dictionary entry for each cat_col 1-2 group:\n",
    "        {'group': {'stat_col': value}}.  Replace nan with train value in \n",
    "        both train and test.  This avoids data leakage.  Return  updated\n",
    "        train and test dataframes.'''\n",
    "    \n",
    "    trn = train_df.copy()\n",
    "    tst = test_df.copy()\n",
    "    trnDict=trn.groupby([cat_col1, cat_col2]).agg({stat_col : stat_calc}).to_dict('index')\n",
    "    trnDict_fallback=trn.groupby([cat_col1]).agg({stat_col : stat_calc}).to_dict('index')\n",
    "    print(f'Made dictionary of {stat_calc} {stat_col} value by {cat_col1}-{cat_col2}. Fallback by {cat_col1}.\\n')\n",
    "        \n",
    "    for k in trnDict.keys():  #scrub by Year-Model\n",
    "        filtTrain = (trn[cat_col1] == k[0]) & (trn[cat_col2] == k[1]) & (trn[stat_col].isna())\n",
    "        filtTest = (tst[cat_col1] == k[0]) & (tst[cat_col2] == k[1]) & (tst[stat_col].isna())\n",
    "        val = trnDict[k][stat_col]\n",
    "        fallback_val = trnDict_fallback[k[0]][stat_col]\n",
    "        \n",
    "        if np.isnan(val):  #if Year-Model missing, use Year fallback.\n",
    "            print(f'Used {cat_col1} fallback for {cat_col1}-{cat_col2}: {k}. Train count: {len(trn.loc[filtTrain, stat_col])}. Test count: {len(tst.loc[filtTest, stat_col])}')\n",
    "            trn.loc[filtTrain, stat_col] = fallback_val\n",
    "            tst.loc[filtTest, stat_col] = fallback_val\n",
    "        else:\n",
    "            trn.loc[filtTrain, stat_col] = val\n",
    "            tst.loc[filtTest, stat_col] = val            \n",
    "            \n",
    "    for key in trnDict_fallback.keys():    #scrub the missed Model-Year combos in test with Model-only fallback.\n",
    "        filtTestCatCol1 = (tst[cat_col1] == key) & (tst[stat_col].isna())\n",
    "        catCol1_val = trnDict_fallback[key][stat_col]\n",
    "        tst.loc[filtTestCatCol1, stat_col] = catCol1_val\n",
    "        \n",
    "    return trn, tst, trnDict, trnDict_fallback\n",
    "\n",
    "#Update NaNs with median odometer value by Model-Year.\n",
    "train, test, trnDict, trnDict_fallback = impute_nan_by_categ(train_df=train, test_df=test, cat_col1='Year', cat_col2='Model', stat_col='Odometer')  "
   ]
  },
  {
   "cell_type": "code",
   "execution_count": 54,
   "metadata": {},
   "outputs": [],
   "source": [
    "#Correct odometer values that are understated.\n",
    "filt_under_1K = train['Odometer'] < 1000\n",
    "train.loc[filt_under_1K, 'Odometer'] = train.loc[filt_under_1K, 'Odometer'] * 1000\n",
    "\n",
    "filt_under_1K = test['Odometer'] < 1000\n",
    "test.loc[filt_under_1K, 'Odometer'] = test.loc[filt_under_1K, 'Odometer'] * 1000\n",
    "\n",
    "#Correct odometer values that are overstated.\n",
    "filt_over_1M = train['Odometer'] > 1_000_000\n",
    "train.loc[filt_over_1M, 'Odometer'] = train.loc[filt_over_1M, 'Odometer'] / 1000\n",
    "\n",
    "filt_over_1M = test['Odometer'] > 1_000_000\n",
    "test.loc[filt_over_1M, 'Odometer'] = test.loc[filt_over_1M, 'Odometer'] / 1000"
   ]
  },
  {
   "cell_type": "code",
   "execution_count": 55,
   "metadata": {},
   "outputs": [
    {
     "name": "stdout",
     "output_type": "stream",
     "text": [
      "Poly columns: {'Year Odometer', 'Odometer^2', 'Year^2'} \n",
      "\n",
      "train correlations:\n",
      "\n",
      "          feature  PriceCorr\n",
      "0         Year^2   0.579990\n",
      "1           Year   0.579768\n",
      "2     Odometer^2  -0.293528\n",
      "3  Year Odometer  -0.417505\n",
      "4       Odometer  -0.418687\n"
     ]
    }
   ],
   "source": [
    "#Engineer features Part 2.\n",
    "def get_polyfeatures(train, target, numer_cols, degree=5):\n",
    "    '''\n",
    "    Returns top train feature correlations as DataFrame.\n",
    "    '''\n",
    "    from sklearn.preprocessing import PolynomialFeatures\n",
    "    poly=PolynomialFeatures(degree=degree, interaction_only=False, include_bias=False)    \n",
    "    ptrn = train[numer_cols].copy()\n",
    "    orig_cols = set(ptrn.columns.values)\n",
    "    ptrn=pd.DataFrame(data=poly.fit_transform(ptrn),index=train.index,columns=poly.get_feature_names(input_features=numer_cols))\n",
    "    final_cols = set(ptrn.columns.values)\n",
    "    added_cols = final_cols - orig_cols\n",
    "    print('Poly columns:', added_cols, '\\n')\n",
    "            \n",
    "    #Get top correlation dataframe and top features list. \n",
    "    corrList = [[c, np.corrcoef(ptrn[c].values, train[target].values)[1,0]] for c in ptrn.columns]\n",
    "    corrtrn=pd.DataFrame(data=corrList, columns=['feature','PriceCorr']).sort_values(by='PriceCorr', ascending=False).dropna().reset_index(drop=True)\n",
    "    print('train correlations:\\n\\n', corrtrn)\n",
    "    return ptrn[added_cols]  \n",
    "\n",
    "num_feat=[col for col in train.select_dtypes(exclude='object').columns];\n",
    "num_feat.remove('Price');\n",
    "\n",
    "#Get poly feature dataframe.\n",
    "p_added = get_polyfeatures(train=train, target='Price', numer_cols=num_feat, degree=2)\n",
    "\n",
    "#Add certain poly features to train and test\n",
    "train['Year^2'] = train['Year']**2\n",
    "train['Year_Odometer'] = train['Year'] * train['Odometer']\n",
    "#train['LN_Odom'] = np.log(train['Odometer'])\n",
    "#train.drop(['Odometer'], axis='columns', inplace=True, errors='ignore')\n",
    "\n",
    "test['Year^2'] = test['Year']**2\n",
    "test['Year_Odometer'] = test['Year'] * test['Odometer']\n",
    "#test['LN_Odom'] = np.log(test['Odometer'])\n",
    "#test.drop(['Odometer'], axis='columns', inplace=True, errors='ignore')"
   ]
  },
  {
   "cell_type": "code",
   "execution_count": 56,
   "metadata": {},
   "outputs": [],
   "source": [
    "#print('Od vs Price', np.corrcoef(train['Odometer'].values, train['Price'].values)[1,0])"
   ]
  },
  {
   "cell_type": "code",
   "execution_count": 57,
   "metadata": {},
   "outputs": [],
   "source": [
    "#print('LN_Odom vs Price', np.corrcoef(train['LN_Odom'].values, train['Price'].values)[1,0])"
   ]
  },
  {
   "cell_type": "code",
   "execution_count": 58,
   "metadata": {},
   "outputs": [],
   "source": [
    "# plt.figure(figsize=(14,12))\n",
    "# sns.scatterplot(x='LN_Odometer', y='Price', data=train)\n",
    "# plt.show()"
   ]
  },
  {
   "cell_type": "code",
   "execution_count": 59,
   "metadata": {},
   "outputs": [
    {
     "name": "stdout",
     "output_type": "stream",
     "text": [
      "Location          object\n",
      "Year               int64\n",
      "Odometer         float64\n",
      "Make              object\n",
      "Model             object\n",
      "Trim              object\n",
      "Seller            object\n",
      "Price            float64\n",
      "Model_Trim        object\n",
      "Model_Seller      object\n",
      "Trim_Seller       object\n",
      "Year^2             int64\n",
      "Year_Odometer    float64\n",
      "dtype: object\n"
     ]
    },
    {
     "data": {
      "text/html": [
       "<div>\n",
       "<style scoped>\n",
       "    .dataframe tbody tr th:only-of-type {\n",
       "        vertical-align: middle;\n",
       "    }\n",
       "\n",
       "    .dataframe tbody tr th {\n",
       "        vertical-align: top;\n",
       "    }\n",
       "\n",
       "    .dataframe thead th {\n",
       "        text-align: right;\n",
       "    }\n",
       "</style>\n",
       "<table border=\"1\" class=\"dataframe\">\n",
       "  <thead>\n",
       "    <tr style=\"text-align: right;\">\n",
       "      <th></th>\n",
       "      <th>Location</th>\n",
       "      <th>Year</th>\n",
       "      <th>Odometer</th>\n",
       "      <th>Make</th>\n",
       "      <th>Model</th>\n",
       "      <th>Trim</th>\n",
       "      <th>Seller</th>\n",
       "      <th>Price</th>\n",
       "      <th>Model_Trim</th>\n",
       "      <th>Model_Seller</th>\n",
       "      <th>Trim_Seller</th>\n",
       "      <th>Year^2</th>\n",
       "      <th>Year_Odometer</th>\n",
       "    </tr>\n",
       "  </thead>\n",
       "  <tbody>\n",
       "    <tr>\n",
       "      <th>5764</th>\n",
       "      <td>houston</td>\n",
       "      <td>2016</td>\n",
       "      <td>55843.0</td>\n",
       "      <td>ford</td>\n",
       "      <td>f-150</td>\n",
       "      <td>xlt</td>\n",
       "      <td>dealer</td>\n",
       "      <td>25250.0</td>\n",
       "      <td>f-150_xlt</td>\n",
       "      <td>f-150_dealer</td>\n",
       "      <td>xlt_dealer</td>\n",
       "      <td>4064256</td>\n",
       "      <td>112579488.0</td>\n",
       "    </tr>\n",
       "    <tr>\n",
       "      <th>3229</th>\n",
       "      <td>dallas</td>\n",
       "      <td>2016</td>\n",
       "      <td>47114.0</td>\n",
       "      <td>ford</td>\n",
       "      <td>escape</td>\n",
       "      <td>se</td>\n",
       "      <td>dealer</td>\n",
       "      <td>13989.0</td>\n",
       "      <td>escape_se</td>\n",
       "      <td>escape_dealer</td>\n",
       "      <td>se_dealer</td>\n",
       "      <td>4064256</td>\n",
       "      <td>94981824.0</td>\n",
       "    </tr>\n",
       "  </tbody>\n",
       "</table>\n",
       "</div>"
      ],
      "text/plain": [
       "     Location  Year  Odometer  Make   Model Trim  Seller    Price Model_Trim  \\\n",
       "5764  houston  2016   55843.0  ford   f-150  xlt  dealer  25250.0  f-150_xlt   \n",
       "3229   dallas  2016   47114.0  ford  escape   se  dealer  13989.0  escape_se   \n",
       "\n",
       "       Model_Seller Trim_Seller   Year^2  Year_Odometer  \n",
       "5764   f-150_dealer  xlt_dealer  4064256    112579488.0  \n",
       "3229  escape_dealer   se_dealer  4064256     94981824.0  "
      ]
     },
     "metadata": {},
     "output_type": "display_data"
    },
    {
     "data": {
      "text/html": [
       "<div>\n",
       "<style scoped>\n",
       "    .dataframe tbody tr th:only-of-type {\n",
       "        vertical-align: middle;\n",
       "    }\n",
       "\n",
       "    .dataframe tbody tr th {\n",
       "        vertical-align: top;\n",
       "    }\n",
       "\n",
       "    .dataframe thead th {\n",
       "        text-align: right;\n",
       "    }\n",
       "</style>\n",
       "<table border=\"1\" class=\"dataframe\">\n",
       "  <thead>\n",
       "    <tr style=\"text-align: right;\">\n",
       "      <th></th>\n",
       "      <th>Location</th>\n",
       "      <th>Year</th>\n",
       "      <th>Odometer</th>\n",
       "      <th>Make</th>\n",
       "      <th>Model</th>\n",
       "      <th>Trim</th>\n",
       "      <th>Seller</th>\n",
       "      <th>Price</th>\n",
       "      <th>Model_Trim</th>\n",
       "      <th>Model_Seller</th>\n",
       "      <th>Trim_Seller</th>\n",
       "      <th>Year^2</th>\n",
       "      <th>Year_Odometer</th>\n",
       "    </tr>\n",
       "  </thead>\n",
       "  <tbody>\n",
       "    <tr>\n",
       "      <th>5764</th>\n",
       "      <td>3</td>\n",
       "      <td>2016</td>\n",
       "      <td>55843.0</td>\n",
       "      <td>0</td>\n",
       "      <td>4</td>\n",
       "      <td>24</td>\n",
       "      <td>0</td>\n",
       "      <td>25250.0</td>\n",
       "      <td>19</td>\n",
       "      <td>8</td>\n",
       "      <td>48</td>\n",
       "      <td>4064256</td>\n",
       "      <td>112579488.0</td>\n",
       "    </tr>\n",
       "    <tr>\n",
       "      <th>3229</th>\n",
       "      <td>1</td>\n",
       "      <td>2016</td>\n",
       "      <td>47114.0</td>\n",
       "      <td>0</td>\n",
       "      <td>1</td>\n",
       "      <td>16</td>\n",
       "      <td>0</td>\n",
       "      <td>13989.0</td>\n",
       "      <td>1</td>\n",
       "      <td>2</td>\n",
       "      <td>32</td>\n",
       "      <td>4064256</td>\n",
       "      <td>94981824.0</td>\n",
       "    </tr>\n",
       "    <tr>\n",
       "      <th>7541</th>\n",
       "      <td>3</td>\n",
       "      <td>2012</td>\n",
       "      <td>136985.0</td>\n",
       "      <td>0</td>\n",
       "      <td>8</td>\n",
       "      <td>16</td>\n",
       "      <td>0</td>\n",
       "      <td>5454.0</td>\n",
       "      <td>29</td>\n",
       "      <td>16</td>\n",
       "      <td>32</td>\n",
       "      <td>4048144</td>\n",
       "      <td>275613820.0</td>\n",
       "    </tr>\n",
       "  </tbody>\n",
       "</table>\n",
       "</div>"
      ],
      "text/plain": [
       "      Location  Year  Odometer  Make  Model  Trim  Seller    Price  \\\n",
       "5764         3  2016   55843.0     0      4    24       0  25250.0   \n",
       "3229         1  2016   47114.0     0      1    16       0  13989.0   \n",
       "7541         3  2012  136985.0     0      8    16       0   5454.0   \n",
       "\n",
       "      Model_Trim  Model_Seller  Trim_Seller   Year^2  Year_Odometer  \n",
       "5764          19             8           48  4064256    112579488.0  \n",
       "3229           1             2           32  4064256     94981824.0  \n",
       "7541          29            16           32  4048144    275613820.0  "
      ]
     },
     "metadata": {},
     "output_type": "display_data"
    }
   ],
   "source": [
    "#Create numeric version of train for pairplotting.\n",
    "train2=train.copy()\n",
    "print(train2.dtypes)\n",
    "display(train2.head(2))\n",
    "\n",
    "from sklearn.preprocessing import LabelEncoder\n",
    "le=LabelEncoder()\n",
    "\n",
    "for col in train2.select_dtypes('object').columns.values:  #Encode categoricals as ordinal\n",
    "    train2[col] = le.fit_transform(train2[col].tolist())\n",
    "display(train2.head(3))"
   ]
  },
  {
   "cell_type": "code",
   "execution_count": 60,
   "metadata": {},
   "outputs": [
    {
     "name": "stderr",
     "output_type": "stream",
     "text": [
      "C:\\Users\\Justin\\Anaconda3\\envs\\ds_env\\lib\\site-packages\\numpy\\lib\\function_base.py:2534: RuntimeWarning: invalid value encountered in true_divide\n",
      "  c /= stddev[:, None]\n",
      "C:\\Users\\Justin\\Anaconda3\\envs\\ds_env\\lib\\site-packages\\numpy\\lib\\function_base.py:2535: RuntimeWarning: invalid value encountered in true_divide\n",
      "  c /= stddev[None, :]\n"
     ]
    },
    {
     "data": {
      "text/plain": [
       "[['Location', 0.026374562009832927],\n",
       " ['Year', 0.5797684472734189],\n",
       " ['Odometer', -0.4186873070296086],\n",
       " ['Make', nan],\n",
       " ['Model', -0.07329996976142857],\n",
       " ['Trim', 0.13477706249019827],\n",
       " ['Seller', -0.2770609552537718],\n",
       " ['Price', 1.0],\n",
       " ['Model_Trim', 0.04276518226962598],\n",
       " ['Model_Seller', -0.09446772678166233],\n",
       " ['Trim_Seller', 0.12147956138628478],\n",
       " ['Year^2', 0.5799896674016976],\n",
       " ['Year_Odometer', -0.41750458855234174]]"
      ]
     },
     "execution_count": 60,
     "metadata": {},
     "output_type": "execute_result"
    }
   ],
   "source": [
    "#train2 correlations\n",
    "train2Corr = [[c, np.corrcoef(train2[c].values, train2['Price'].values)[1,0]] for c in train2.columns]\n",
    "train2Corr"
   ]
  },
  {
   "cell_type": "code",
   "execution_count": 61,
   "metadata": {},
   "outputs": [],
   "source": [
    "#Investigate outliers revealed in pairplot.\n",
    "# sns.set(font_scale=1.5)\n",
    "# sns.pairplot(train2)\n",
    "# plt.show()"
   ]
  },
  {
   "cell_type": "code",
   "execution_count": 62,
   "metadata": {},
   "outputs": [
    {
     "data": {
      "text/plain": [
       "Price            1.000000\n",
       "Year^2           0.579990\n",
       "Year             0.579768\n",
       "Trim             0.134777\n",
       "Trim_Seller      0.121480\n",
       "Model_Trim       0.042765\n",
       "Location         0.026375\n",
       "Model           -0.073300\n",
       "Model_Seller    -0.094468\n",
       "Seller          -0.277061\n",
       "Year_Odometer   -0.417505\n",
       "Odometer        -0.418687\n",
       "Make                  NaN\n",
       "Name: Price, dtype: float64"
      ]
     },
     "execution_count": 62,
     "metadata": {},
     "output_type": "execute_result"
    }
   ],
   "source": [
    "#Get numeric train correlations\n",
    "train2.corr()['Price'].sort_values(ascending=False)"
   ]
  },
  {
   "cell_type": "markdown",
   "metadata": {},
   "source": [
    "### Save Preprocessed data - train and test"
   ]
  },
  {
   "cell_type": "code",
   "execution_count": 63,
   "metadata": {},
   "outputs": [
    {
     "data": {
      "text/plain": [
       "['train.joblib']"
      ]
     },
     "execution_count": 63,
     "metadata": {},
     "output_type": "execute_result"
    }
   ],
   "source": [
    "#Save vehicle, which has sqlite-incompatible data.\n",
    "joblib.dump(vehicle, 'vehicle.joblib', compress=2)"
   ]
  },
  {
   "cell_type": "code",
   "execution_count": 64,
   "metadata": {},
   "outputs": [],
   "source": [
    "#Write train and test to auto.sqlite\n",
    "write_table(train, 'trainClean')\n",
    "write_table(test, 'testClean')"
   ]
  },
  {
   "cell_type": "code",
   "execution_count": 65,
   "metadata": {},
   "outputs": [
    {
     "name": "stdout",
     "output_type": "stream",
     "text": [
      "train shape: (3112, 13) | test shape: (346, 13)\n"
     ]
    }
   ],
   "source": [
    "print('train shape:', train.shape, '| test shape:', test.shape)"
   ]
  },
  {
   "cell_type": "code",
   "execution_count": 66,
   "metadata": {},
   "outputs": [
    {
     "data": {
      "text/html": [
       "<div>\n",
       "<style scoped>\n",
       "    .dataframe tbody tr th:only-of-type {\n",
       "        vertical-align: middle;\n",
       "    }\n",
       "\n",
       "    .dataframe tbody tr th {\n",
       "        vertical-align: top;\n",
       "    }\n",
       "\n",
       "    .dataframe thead th {\n",
       "        text-align: right;\n",
       "    }\n",
       "</style>\n",
       "<table border=\"1\" class=\"dataframe\">\n",
       "  <thead>\n",
       "    <tr style=\"text-align: right;\">\n",
       "      <th></th>\n",
       "      <th>URL_Vehicle</th>\n",
       "      <th>Title</th>\n",
       "      <th>Location</th>\n",
       "      <th>Year</th>\n",
       "      <th>Year_in_Title</th>\n",
       "      <th>Odometer</th>\n",
       "      <th>RawMake</th>\n",
       "      <th>Make</th>\n",
       "      <th>Model</th>\n",
       "      <th>Trim</th>\n",
       "      <th>Seller</th>\n",
       "      <th>Price</th>\n",
       "      <th>SubLoc</th>\n",
       "      <th>Body</th>\n",
       "      <th>AttribDictionary</th>\n",
       "      <th>ImageDictionary</th>\n",
       "      <th>VehicleID</th>\n",
       "      <th>VIN</th>\n",
       "      <th>TrimAlternate</th>\n",
       "      <th>DownFlag</th>\n",
       "      <th>LN_Price</th>\n",
       "      <th>Model_Trim</th>\n",
       "      <th>Model_Seller</th>\n",
       "      <th>Trim_Seller</th>\n",
       "    </tr>\n",
       "  </thead>\n",
       "  <tbody>\n",
       "    <tr>\n",
       "      <th>1</th>\n",
       "      <td>https://austin.craigslist.org/cto/d/red-rock-2...</td>\n",
       "      <td>2006 Ford Focus SE</td>\n",
       "      <td>austin</td>\n",
       "      <td>2006</td>\n",
       "      <td>NaN</td>\n",
       "      <td>181000.0</td>\n",
       "      <td>2006 ford focus se</td>\n",
       "      <td>ford</td>\n",
       "      <td>focus</td>\n",
       "      <td>se</td>\n",
       "      <td>owner</td>\n",
       "      <td>3000.0</td>\n",
       "      <td>(Cedar Creek)</td>\n",
       "      <td>\\n        ,\\n2006 Ford Focus in great mechanic...</td>\n",
       "      <td>{'0': '&lt;span&gt;&lt;b&gt;2006 Ford Focus SE&lt;/b&gt;&lt;/span&gt;'...</td>\n",
       "      <td>{'0': 'https://images.craigslist.org/00n0n_dXT...</td>\n",
       "      <td>7022331083</td>\n",
       "      <td>None2</td>\n",
       "      <td>se</td>\n",
       "      <td>None</td>\n",
       "      <td>8.006701</td>\n",
       "      <td>focus_se</td>\n",
       "      <td>focus_owner</td>\n",
       "      <td>se_owner</td>\n",
       "    </tr>\n",
       "  </tbody>\n",
       "</table>\n",
       "</div>"
      ],
      "text/plain": [
       "                                         URL_Vehicle               Title  \\\n",
       "1  https://austin.craigslist.org/cto/d/red-rock-2...  2006 Ford Focus SE   \n",
       "\n",
       "  Location  Year  Year_in_Title  Odometer             RawMake  Make  Model  \\\n",
       "1   austin  2006            NaN  181000.0  2006 ford focus se  ford  focus   \n",
       "\n",
       "  Trim Seller   Price         SubLoc  \\\n",
       "1   se  owner  3000.0  (Cedar Creek)   \n",
       "\n",
       "                                                Body  \\\n",
       "1  \\n        ,\\n2006 Ford Focus in great mechanic...   \n",
       "\n",
       "                                    AttribDictionary  \\\n",
       "1  {'0': '<span><b>2006 Ford Focus SE</b></span>'...   \n",
       "\n",
       "                                     ImageDictionary   VehicleID    VIN  \\\n",
       "1  {'0': 'https://images.craigslist.org/00n0n_dXT...  7022331083  None2   \n",
       "\n",
       "  TrimAlternate DownFlag  LN_Price Model_Trim Model_Seller Trim_Seller  \n",
       "1            se     None  8.006701   focus_se  focus_owner    se_owner  "
      ]
     },
     "execution_count": 66,
     "metadata": {},
     "output_type": "execute_result"
    }
   ],
   "source": [
    "vehicle.head(1)"
   ]
  },
  {
   "cell_type": "code",
   "execution_count": 67,
   "metadata": {},
   "outputs": [
    {
     "data": {
      "text/html": [
       "<div>\n",
       "<style scoped>\n",
       "    .dataframe tbody tr th:only-of-type {\n",
       "        vertical-align: middle;\n",
       "    }\n",
       "\n",
       "    .dataframe tbody tr th {\n",
       "        vertical-align: top;\n",
       "    }\n",
       "\n",
       "    .dataframe thead th {\n",
       "        text-align: right;\n",
       "    }\n",
       "</style>\n",
       "<table border=\"1\" class=\"dataframe\">\n",
       "  <thead>\n",
       "    <tr style=\"text-align: right;\">\n",
       "      <th></th>\n",
       "      <th>Location</th>\n",
       "      <th>Year</th>\n",
       "      <th>Odometer</th>\n",
       "      <th>Make</th>\n",
       "      <th>Model</th>\n",
       "      <th>Trim</th>\n",
       "      <th>Seller</th>\n",
       "      <th>Price</th>\n",
       "      <th>Model_Trim</th>\n",
       "      <th>Model_Seller</th>\n",
       "      <th>Trim_Seller</th>\n",
       "      <th>Year^2</th>\n",
       "      <th>Year_Odometer</th>\n",
       "    </tr>\n",
       "  </thead>\n",
       "  <tbody>\n",
       "    <tr>\n",
       "      <th>5764</th>\n",
       "      <td>houston</td>\n",
       "      <td>2016</td>\n",
       "      <td>55843.0</td>\n",
       "      <td>ford</td>\n",
       "      <td>f-150</td>\n",
       "      <td>xlt</td>\n",
       "      <td>dealer</td>\n",
       "      <td>25250.0</td>\n",
       "      <td>f-150_xlt</td>\n",
       "      <td>f-150_dealer</td>\n",
       "      <td>xlt_dealer</td>\n",
       "      <td>4064256</td>\n",
       "      <td>112579488.0</td>\n",
       "    </tr>\n",
       "    <tr>\n",
       "      <th>3229</th>\n",
       "      <td>dallas</td>\n",
       "      <td>2016</td>\n",
       "      <td>47114.0</td>\n",
       "      <td>ford</td>\n",
       "      <td>escape</td>\n",
       "      <td>se</td>\n",
       "      <td>dealer</td>\n",
       "      <td>13989.0</td>\n",
       "      <td>escape_se</td>\n",
       "      <td>escape_dealer</td>\n",
       "      <td>se_dealer</td>\n",
       "      <td>4064256</td>\n",
       "      <td>94981824.0</td>\n",
       "    </tr>\n",
       "  </tbody>\n",
       "</table>\n",
       "</div>"
      ],
      "text/plain": [
       "     Location  Year  Odometer  Make   Model Trim  Seller    Price Model_Trim  \\\n",
       "5764  houston  2016   55843.0  ford   f-150  xlt  dealer  25250.0  f-150_xlt   \n",
       "3229   dallas  2016   47114.0  ford  escape   se  dealer  13989.0  escape_se   \n",
       "\n",
       "       Model_Seller Trim_Seller   Year^2  Year_Odometer  \n",
       "5764   f-150_dealer  xlt_dealer  4064256    112579488.0  \n",
       "3229  escape_dealer   se_dealer  4064256     94981824.0  "
      ]
     },
     "execution_count": 67,
     "metadata": {},
     "output_type": "execute_result"
    }
   ],
   "source": [
    "train.head(2)"
   ]
  },
  {
   "cell_type": "code",
   "execution_count": null,
   "metadata": {},
   "outputs": [],
   "source": []
  },
  {
   "cell_type": "code",
   "execution_count": null,
   "metadata": {},
   "outputs": [],
   "source": []
  },
  {
   "cell_type": "code",
   "execution_count": null,
   "metadata": {},
   "outputs": [],
   "source": []
  },
  {
   "cell_type": "code",
   "execution_count": null,
   "metadata": {},
   "outputs": [],
   "source": []
  },
  {
   "cell_type": "code",
   "execution_count": null,
   "metadata": {},
   "outputs": [],
   "source": []
  }
 ],
 "metadata": {
  "kernelspec": {
   "display_name": "Python 3",
   "language": "python",
   "name": "python3"
  },
  "language_info": {
   "codemirror_mode": {
    "name": "ipython",
    "version": 3
   },
   "file_extension": ".py",
   "mimetype": "text/x-python",
   "name": "python",
   "nbconvert_exporter": "python",
   "pygments_lexer": "ipython3",
   "version": "3.7.3"
  }
 },
 "nbformat": 4,
 "nbformat_minor": 2
}
