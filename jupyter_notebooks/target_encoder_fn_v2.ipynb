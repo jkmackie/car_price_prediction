{
 "cells": [
  {
   "cell_type": "markdown",
   "metadata": {},
   "source": [
    "## Revised target encoder function"
   ]
  },
  {
   "cell_type": "markdown",
   "metadata": {},
   "source": [
    "##### The original target_encode_categ function was not robust.  It would return NaN if the category was exclusive to test (missing from train).  The improved function is below.\n",
    "\n",
    "##### Project results weren't impacted."
   ]
  },
  {
   "cell_type": "code",
   "execution_count": 1,
   "metadata": {},
   "outputs": [],
   "source": [
    "from category_encoders.target_encoder import TargetEncoder\n",
    "\n",
    "from category_encoders.target_encoder import TargetEncoder\n",
    "\n",
    "def target_encode_categ(encode_cols, train, test, target, encoder):\n",
    "    '''Returns encoded categorical features.  Encoded feature is a blend of\n",
    "    (1) ExpectedVal( trainTarget | FeatureClass) and \n",
    "    (2) \"Prior\": ExpectedVal(Target) over all training data.  \n",
    "    \n",
    "    Sets testTarget to NaN to stop data leakage.\n",
    "    \n",
    "    Encoder smoothing balances Class average vs Prior. Higher smoothing is stronger\n",
    "    regularization.\n",
    "    \n",
    "    Arguments\n",
    "    ---------\n",
    "    train: training data including target Y\n",
    "    test: test data including target Y\n",
    "    target: target Y\n",
    "    encoder: TargetEncoder(cols_to encode, smoothing_float_value).  \n",
    "    \n",
    "    See https://contrib.scikit-learn.org/categorical-encoding/targetencoder.html\n",
    "    for more parameters.\n",
    "    \n",
    "    Returns\n",
    "    ---------\n",
    "    trn: train with encoding applied to encode_cols\n",
    "    tst: test with encoding applied to encode_cols\n",
    "    \n",
    "    '''\n",
    "    \n",
    "    trn = train.copy(); tst = test.copy();\n",
    "    \n",
    "    #Fit and transform.\n",
    "    encoder.fit(trn[encode_cols], trn[target])\n",
    "    trn_enc = encoder.transform(trn[encode_cols])\n",
    "    tst_enc = encoder.transform(tst[encode_cols])\n",
    "    \n",
    "    #Overwrite features with encoded features.\n",
    "    trn[encode_cols] = trn_enc\n",
    "    tst[encode_cols] = tst_enc\n",
    "    \n",
    "    return trn, tst"
   ]
  },
  {
   "cell_type": "code",
   "execution_count": null,
   "metadata": {},
   "outputs": [],
   "source": []
  }
 ],
 "metadata": {
  "kernelspec": {
   "display_name": "Python 3",
   "language": "python",
   "name": "python3"
  },
  "language_info": {
   "codemirror_mode": {
    "name": "ipython",
    "version": 3
   },
   "file_extension": ".py",
   "mimetype": "text/x-python",
   "name": "python",
   "nbconvert_exporter": "python",
   "pygments_lexer": "ipython3",
   "version": "3.7.9"
  }
 },
 "nbformat": 4,
 "nbformat_minor": 4
}
