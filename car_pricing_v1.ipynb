{
 "cells": [
  {
   "cell_type": "markdown",
   "metadata": {},
   "source": [
    "###  Car Price Modeling Project\n",
    "\n",
    "* Part 1 - Predict price with car metadata\n",
    "\n",
    "* Part 2 - Predict price with metadata + image\n",
    "\n",
    "* Details:  Get metadata from craigslist API.  Get additional relevant features, like gas price.  \n",
    "  Clean data.  Put clean data in SQLite database."
   ]
  },
  {
   "cell_type": "code",
   "execution_count": 1,
   "metadata": {},
   "outputs": [],
   "source": [
    "#KEY FEATURES\n",
    "#price label, brand, model, age, horsepower/engine_type, mileage. time passage from ad post?\n",
    "\n",
    "#SECONDARY FEATURES\n",
    "#make, fuel type, mpg, exterior color, door number, transmission type,\n",
    "#dimensions, safety, air condition, interior, navigation y/n, engine type\n",
    "#cubic capacity, number of ad views, power steering, rim type\n",
    "#registered city, number of doors, 4WD, damaged, leather, alarm,\n",
    "#A/C, parking sensors, xenon lights, remote unlock, electric mirrors,\n",
    "#seat heat, moon roof, cruise control, abs, traction control\n",
    "\n",
    "#OTHER FEATURES\n",
    "#estimated car life, price rank as category (cheap, moderate, expensive)\n",
    "\n",
    "#Non-craigslist features\n",
    "# gas price,\n",
    "\n",
    "#Sparse features to ignore?: damaged, city"
   ]
  },
  {
   "cell_type": "code",
   "execution_count": 2,
   "metadata": {},
   "outputs": [],
   "source": [
    "#FEATURE ENHANCEMENT:\n",
    "#Train with stratified sample of make\n",
    "#Encode Thumbs Up/Down fields: [ON, OFF, NotAvailable] -> [1, -1, 0]\n",
    "#Poly features for regression.  Ex. Mileage and year\n",
    "#Differencing features and explicit features for orest."
   ]
  },
  {
   "cell_type": "code",
   "execution_count": 3,
   "metadata": {},
   "outputs": [],
   "source": [
    "# Candidate models\n",
    "# Regression, KNN, SVM, random forest, naive bayes, neural networks\n",
    "# Neural network should be best, followed by RF and SVM."
   ]
  },
  {
   "cell_type": "code",
   "execution_count": 4,
   "metadata": {},
   "outputs": [],
   "source": [
    "# Frame as Price as Regression vs Classification Problem\n",
    "# Classification: bin continuous features using cluster analysis?"
   ]
  },
  {
   "cell_type": "code",
   "execution_count": 5,
   "metadata": {},
   "outputs": [],
   "source": [
    "import numpy as np\n",
    "import pandas as pd\n",
    "pd.options.display.max_columns = 40"
   ]
  },
  {
   "cell_type": "code",
   "execution_count": 6,
   "metadata": {},
   "outputs": [
    {
     "name": "stdout",
     "output_type": "stream",
     "text": [
      "Base filters:\n",
      "* query = ...\n",
      "* search_titles = True/False\n",
      "* has_image = True/False\n",
      "* posted_today = True/False\n",
      "* bundle_duplicates = True/False\n",
      "* search_distance = ...\n",
      "* zip_code = ...\n",
      "Section specific filters:\n",
      "* min_price = ...\n",
      "* max_price = ...\n",
      "* make = ...\n",
      "* model = ...\n",
      "* min_year = ...\n",
      "* max_year = ...\n",
      "* min_miles = ...\n",
      "* max_miles = ...\n",
      "* language = 'af', 'ca', 'da', 'de', 'en', 'es', 'fi', 'fr', 'it', 'nl', 'no', 'pt', 'sv', 'tl', 'tr', 'zh', 'ar', 'ja', 'ko', 'ru', 'vi'\n",
      "* condition = 'new', 'like new', 'excellent', 'good', 'fair', 'salvage'\n"
     ]
    }
   ],
   "source": [
    "#Use python-craigslist API from here:  https://github.com/juliomalegria/python-craigslist\n",
    "from craigslist import CraigslistForSale\n",
    "CraigslistForSale.show_filters()"
   ]
  },
  {
   "cell_type": "code",
   "execution_count": 7,
   "metadata": {},
   "outputs": [],
   "source": [
    "#Put results in list-of-lists.  bundle_duplicates needed?\n",
    "filt={'make' : 'Honda', 'min_year' : 1999, 'max_year' : 2019, 'has_image' : True, 'min_price': 0}\n",
    "\n",
    "cl_s = CraigslistForSale(site='houston', category='cta',\n",
    "                         filters=filt)\n",
    "carLOE=[]\n",
    "for result in cl_s.get_results(sort_by='newest', limit=5):\n",
    "    carLOE.append(result)"
   ]
  },
  {
   "cell_type": "code",
   "execution_count": 8,
   "metadata": {},
   "outputs": [
    {
     "data": {
      "text/plain": [
       "[{'id': '7006277672',\n",
       "  'repost_of': None,\n",
       "  'name': '2005 Honda Accord LX 2dr Coupe - SE HABLA ESPANOL',\n",
       "  'url': 'https://houston.craigslist.org/ctd/d/south-houston-2005-honda-accord-lx-2dr/7006277672.html',\n",
       "  'datetime': '2019-10-24 14:04',\n",
       "  'last_updated': '2019-10-24 14:04',\n",
       "  'price': '$0',\n",
       "  'where': '+ WE HAVE FINANCING APPROVALS FOR ALL CREDIT TYPES!',\n",
       "  'has_image': True,\n",
       "  'geotag': None},\n",
       " {'id': '7006267953',\n",
       "  'repost_of': None,\n",
       "  'name': '2016 Honda Pilot Touring',\n",
       "  'url': 'https://houston.craigslist.org/cto/d/friendswood-2016-honda-pilot-touring/7006267953.html',\n",
       "  'datetime': '2019-10-24 13:53',\n",
       "  'last_updated': '2019-10-24 13:53',\n",
       "  'price': '$25200',\n",
       "  'where': 'Friendswood',\n",
       "  'has_image': True,\n",
       "  'geotag': None}]"
      ]
     },
     "execution_count": 8,
     "metadata": {},
     "output_type": "execute_result"
    }
   ],
   "source": [
    "#Show first two dictionary entries in list\n",
    "carLOE[0:2]"
   ]
  },
  {
   "cell_type": "code",
   "execution_count": 9,
   "metadata": {},
   "outputs": [],
   "source": [
    "#Put carLOE into DataFrame\n",
    "cars=pd.DataFrame(carLOE)\n",
    "pd.set_option('max_colwidth', 300)"
   ]
  },
  {
   "cell_type": "code",
   "execution_count": 10,
   "metadata": {},
   "outputs": [
    {
     "data": {
      "text/html": [
       "<div>\n",
       "<style scoped>\n",
       "    .dataframe tbody tr th:only-of-type {\n",
       "        vertical-align: middle;\n",
       "    }\n",
       "\n",
       "    .dataframe tbody tr th {\n",
       "        vertical-align: top;\n",
       "    }\n",
       "\n",
       "    .dataframe thead th {\n",
       "        text-align: right;\n",
       "    }\n",
       "</style>\n",
       "<table border=\"1\" class=\"dataframe\">\n",
       "  <thead>\n",
       "    <tr style=\"text-align: right;\">\n",
       "      <th></th>\n",
       "      <th>id</th>\n",
       "      <th>repost_of</th>\n",
       "      <th>name</th>\n",
       "      <th>url</th>\n",
       "      <th>datetime</th>\n",
       "      <th>last_updated</th>\n",
       "      <th>price</th>\n",
       "      <th>where</th>\n",
       "      <th>has_image</th>\n",
       "      <th>geotag</th>\n",
       "    </tr>\n",
       "  </thead>\n",
       "  <tbody>\n",
       "    <tr>\n",
       "      <td>0</td>\n",
       "      <td>7006277672</td>\n",
       "      <td>None</td>\n",
       "      <td>2005 Honda Accord LX 2dr Coupe - SE HABLA ESPANOL</td>\n",
       "      <td>https://houston.craigslist.org/ctd/d/south-houston-2005-honda-accord-lx-2dr/7006277672.html</td>\n",
       "      <td>2019-10-24 14:04</td>\n",
       "      <td>2019-10-24 14:04</td>\n",
       "      <td>$0</td>\n",
       "      <td>+ WE HAVE FINANCING APPROVALS FOR ALL CREDIT TYPES!</td>\n",
       "      <td>True</td>\n",
       "      <td>None</td>\n",
       "    </tr>\n",
       "    <tr>\n",
       "      <td>1</td>\n",
       "      <td>7006267953</td>\n",
       "      <td>None</td>\n",
       "      <td>2016 Honda Pilot Touring</td>\n",
       "      <td>https://houston.craigslist.org/cto/d/friendswood-2016-honda-pilot-touring/7006267953.html</td>\n",
       "      <td>2019-10-24 13:53</td>\n",
       "      <td>2019-10-24 13:53</td>\n",
       "      <td>$25200</td>\n",
       "      <td>Friendswood</td>\n",
       "      <td>True</td>\n",
       "      <td>None</td>\n",
       "    </tr>\n",
       "    <tr>\n",
       "      <td>2</td>\n",
       "      <td>7006251818</td>\n",
       "      <td>None</td>\n",
       "      <td>2002 Honda CR-V EX</td>\n",
       "      <td>https://houston.craigslist.org/cto/d/2002-honda-cr-ex/7006251818.html</td>\n",
       "      <td>2019-10-24 13:34</td>\n",
       "      <td>2019-10-24 13:34</td>\n",
       "      <td>$3900</td>\n",
       "      <td>Houston</td>\n",
       "      <td>True</td>\n",
       "      <td>None</td>\n",
       "    </tr>\n",
       "    <tr>\n",
       "      <td>3</td>\n",
       "      <td>7006224685</td>\n",
       "      <td>6887552051</td>\n",
       "      <td>2003 honda accord exelent conditio</td>\n",
       "      <td>https://houston.craigslist.org/cto/d/houston-2003-honda-accord-exelent/7006224685.html</td>\n",
       "      <td>2019-10-24 13:04</td>\n",
       "      <td>2019-10-24 13:04</td>\n",
       "      <td>$3999</td>\n",
       "      <td>45 south and bway 8</td>\n",
       "      <td>True</td>\n",
       "      <td>None</td>\n",
       "    </tr>\n",
       "  </tbody>\n",
       "</table>\n",
       "</div>"
      ],
      "text/plain": [
       "           id   repost_of                                               name  \\\n",
       "0  7006277672        None  2005 Honda Accord LX 2dr Coupe - SE HABLA ESPANOL   \n",
       "1  7006267953        None                           2016 Honda Pilot Touring   \n",
       "2  7006251818        None                                 2002 Honda CR-V EX   \n",
       "3  7006224685  6887552051                 2003 honda accord exelent conditio   \n",
       "\n",
       "                                                                                           url  \\\n",
       "0  https://houston.craigslist.org/ctd/d/south-houston-2005-honda-accord-lx-2dr/7006277672.html   \n",
       "1    https://houston.craigslist.org/cto/d/friendswood-2016-honda-pilot-touring/7006267953.html   \n",
       "2                        https://houston.craigslist.org/cto/d/2002-honda-cr-ex/7006251818.html   \n",
       "3       https://houston.craigslist.org/cto/d/houston-2003-honda-accord-exelent/7006224685.html   \n",
       "\n",
       "           datetime      last_updated   price  \\\n",
       "0  2019-10-24 14:04  2019-10-24 14:04      $0   \n",
       "1  2019-10-24 13:53  2019-10-24 13:53  $25200   \n",
       "2  2019-10-24 13:34  2019-10-24 13:34   $3900   \n",
       "3  2019-10-24 13:04  2019-10-24 13:04   $3999   \n",
       "\n",
       "                                                 where  has_image geotag  \n",
       "0  + WE HAVE FINANCING APPROVALS FOR ALL CREDIT TYPES!       True   None  \n",
       "1                                          Friendswood       True   None  \n",
       "2                                              Houston       True   None  \n",
       "3                                  45 south and bway 8       True   None  "
      ]
     },
     "execution_count": 10,
     "metadata": {},
     "output_type": "execute_result"
    }
   ],
   "source": [
    "#View DataFrame\n",
    "cars.head(4)"
   ]
  },
  {
   "cell_type": "code",
   "execution_count": 11,
   "metadata": {},
   "outputs": [
    {
     "data": {
      "text/plain": [
       "0    https://houston.craigslist.org/ctd/d/south-houston-2005-honda-accord-lx-2dr/7006277672.html\n",
       "1      https://houston.craigslist.org/cto/d/friendswood-2016-honda-pilot-touring/7006267953.html\n",
       "2                          https://houston.craigslist.org/cto/d/2002-honda-cr-ex/7006251818.html\n",
       "3         https://houston.craigslist.org/cto/d/houston-2003-honda-accord-exelent/7006224685.html\n",
       "Name: url, dtype: object"
      ]
     },
     "execution_count": 11,
     "metadata": {},
     "output_type": "execute_result"
    }
   ],
   "source": [
    "#Show first 4 URLs\n",
    "cars.loc[0:3, 'url']"
   ]
  },
  {
   "cell_type": "code",
   "execution_count": null,
   "metadata": {},
   "outputs": [],
   "source": []
  },
  {
   "cell_type": "code",
   "execution_count": null,
   "metadata": {},
   "outputs": [],
   "source": []
  }
 ],
 "metadata": {
  "kernelspec": {
   "display_name": "Python 3",
   "language": "python",
   "name": "python3"
  },
  "language_info": {
   "codemirror_mode": {
    "name": "ipython",
    "version": 3
   },
   "file_extension": ".py",
   "mimetype": "text/x-python",
   "name": "python",
   "nbconvert_exporter": "python",
   "pygments_lexer": "ipython3",
   "version": "3.6.7"
  }
 },
 "nbformat": 4,
 "nbformat_minor": 2
}
